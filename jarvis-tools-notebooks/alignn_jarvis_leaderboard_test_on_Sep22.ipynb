{
  "nbformat": 4,
  "nbformat_minor": 0,
  "metadata": {
    "colab": {
      "provenance": [],
      "gpuType": "T4",
      "include_colab_link": true
    },
    "kernelspec": {
      "name": "python3",
      "display_name": "Python 3"
    },
    "language_info": {
      "name": "python"
    },
    "accelerator": "GPU"
  },
  "cells": [
    {
      "cell_type": "markdown",
      "metadata": {
        "id": "view-in-github",
        "colab_type": "text"
      },
      "source": [
        "<a href=\"https://colab.research.google.com/github/Wanwan-Laang/jarvis_leaderboard/blob/main/jarvis-tools-notebooks/alignn_jarvis_leaderboard_test_on_Sep22.ipynb\" target=\"_parent\"><img src=\"https://colab.research.google.com/assets/colab-badge.svg\" alt=\"Open In Colab\"/></a>"
      ]
    },
    {
      "cell_type": "markdown",
      "source": [
        "## This notebook shows how to add benchmarks to [JARVIS-Leaderboard](https://pages.nist.gov/jarvis_leaderboard/) using [alignn](https://github.com/usnistgov/alignn) for [exfoliation_energy](https://pages.nist.gov/jarvis_leaderboard/AI/SinglePropertyPrediction/dft_3d_exfoliation_energy/) task."
      ],
      "metadata": {
        "id": "SkDZ2Ll65X44"
      }
    },
    {
      "cell_type": "markdown",
      "source": [
        "The Atomistic Line Graph Neural Network (https://www.nature.com/articles/s41524-021-00650-1) introduces a new graph convolution layer that explicitly models both two and three body interactions in atomistic systems.\n",
        "\n",
        "This is achieved by composing two edge-gated graph convolution layers, the first applied to the atomistic line graph L(g) (representing triplet interactions) and the second applied to the atomistic bond graph g (representing pair interactions).\n",
        "\n",
        "The atomistic graph g consists of a node for each atom i (with atom/node representations hi), and one edge for each atom pair within a cutoff radius (with bond/pair representations eij).\n",
        "\n",
        "The atomistic line graph L(g) represents relationships between atom triplets: it has nodes corresponding to bonds (sharing representations eij with those in g) and edges corresponding to bond angles (with angle/triplet representations tijk).\n",
        "\n",
        "The line graph convolution updates the triplet representations and the pair representations; the direct graph convolution further updates the pair representations and the atom representations.\n",
        "\n",
        "This model is used for developing unified graph neural force-fields as well (https://pubs.rsc.org/en/content/articlehtml/2023/dd/d2dd00096b)."
      ],
      "metadata": {
        "id": "qtJlsLTakhSK"
      }
    },
    {
      "cell_type": "markdown",
      "source": [
        "First, let's install alignn"
      ],
      "metadata": {
        "id": "q0kfDsAKBMO2"
      }
    },
    {
      "cell_type": "code",
      "source": [
        "import torch\n",
        "torch.__version__"
      ],
      "metadata": {
        "id": "NP8rSY5jfkuv",
        "outputId": "790b974d-5823-4ac5-bdbf-e1fd80a0e3eb",
        "colab": {
          "base_uri": "https://localhost:8080/",
          "height": 35
        }
      },
      "execution_count": 1,
      "outputs": [
        {
          "output_type": "execute_result",
          "data": {
            "text/plain": [
              "'2.2.1+cu121'"
            ],
            "application/vnd.google.colaboratory.intrinsic+json": {
              "type": "string"
            }
          },
          "metadata": {},
          "execution_count": 1
        }
      ]
    },
    {
      "cell_type": "code",
      "source": [
        "!nvidia-smi"
      ],
      "metadata": {
        "id": "Ogu1ATbOfszw",
        "outputId": "8f3fc180-c89f-4b28-d088-03395f4965a1",
        "colab": {
          "base_uri": "https://localhost:8080/"
        }
      },
      "execution_count": 2,
      "outputs": [
        {
          "output_type": "stream",
          "name": "stdout",
          "text": [
            "Mon Sep 22 22:04:58 2025       \n",
            "+-----------------------------------------------------------------------------------------+\n",
            "| NVIDIA-SMI 550.54.15              Driver Version: 550.54.15      CUDA Version: 12.4     |\n",
            "|-----------------------------------------+------------------------+----------------------+\n",
            "| GPU  Name                 Persistence-M | Bus-Id          Disp.A | Volatile Uncorr. ECC |\n",
            "| Fan  Temp   Perf          Pwr:Usage/Cap |           Memory-Usage | GPU-Util  Compute M. |\n",
            "|                                         |                        |               MIG M. |\n",
            "|=========================================+========================+======================|\n",
            "|   0  Tesla T4                       Off |   00000000:00:04.0 Off |                    0 |\n",
            "| N/A   44C    P8             10W /   70W |       0MiB /  15360MiB |      0%      Default |\n",
            "|                                         |                        |                  N/A |\n",
            "+-----------------------------------------+------------------------+----------------------+\n",
            "                                                                                         \n",
            "+-----------------------------------------------------------------------------------------+\n",
            "| Processes:                                                                              |\n",
            "|  GPU   GI   CI        PID   Type   Process name                              GPU Memory |\n",
            "|        ID   ID                                                               Usage      |\n",
            "|=========================================================================================|\n",
            "|  No running processes found                                                             |\n",
            "+-----------------------------------------------------------------------------------------+\n"
          ]
        }
      ]
    },
    {
      "cell_type": "code",
      "source": [
        "!python --version"
      ],
      "metadata": {
        "id": "7-GTezfXgESh",
        "outputId": "5d62e814-2a41-4e71-ac7a-b67f0de1111c",
        "colab": {
          "base_uri": "https://localhost:8080/"
        }
      },
      "execution_count": 3,
      "outputs": [
        {
          "output_type": "stream",
          "name": "stdout",
          "text": [
            "Python 3.12.11\n"
          ]
        }
      ]
    },
    {
      "cell_type": "code",
      "source": [
        "%%time\n",
        "import os\n",
        "# !pip install -q alignn\n",
        "# !pip uninstall dgl -y\n",
        "os.chdir('/content')\n",
        "# Clone ALIGNN repo to get example folder\n",
        "if not os.path.exists('alignn'):\n",
        "   !git clone https://github.com/atomgptlab/alignn.git\n",
        "os.chdir(\"alignn\")\n",
        "\n",
        "!git checkout develop\n",
        "!pip install -q --no-cache-dir dgl -f https://data.dgl.ai/wheels/torch-2.4/cu124/repo.html\n",
        "!pip install -e .\n",
        "# !uv pip install -q -e .\n",
        "os.chdir('/content')"
      ],
      "metadata": {
        "id": "BF0KGOecPs5q",
        "outputId": "78d38c9b-f4c6-40cf-aace-52c1e01e3132",
        "colab": {
          "base_uri": "https://localhost:8080/"
        }
      },
      "execution_count": 4,
      "outputs": [
        {
          "output_type": "stream",
          "name": "stdout",
          "text": [
            "Already on 'develop'\n",
            "Your branch is up to date with 'origin/develop'.\n",
            "Obtaining file:///content/alignn\n",
            "  Installing build dependencies ... \u001b[?25l\u001b[?25hdone\n",
            "  Checking if build backend supports build_editable ... \u001b[?25l\u001b[?25hdone\n",
            "  Getting requirements to build editable ... \u001b[?25l\u001b[?25hdone\n",
            "  Preparing editable metadata (pyproject.toml) ... \u001b[?25l\u001b[?25hdone\n",
            "Requirement already satisfied: numpy<2.0 in /usr/local/lib/python3.12/dist-packages (from alignn==2025.4.1) (1.26.4)\n",
            "Requirement already satisfied: scipy>=1.6.1 in /usr/local/lib/python3.12/dist-packages (from alignn==2025.4.1) (1.16.2)\n",
            "Requirement already satisfied: jarvis-tools>=2021.07.19 in /usr/local/lib/python3.12/dist-packages (from alignn==2025.4.1) (2025.5.30)\n",
            "Requirement already satisfied: torch<=2.2.1 in /usr/local/lib/python3.12/dist-packages (from alignn==2025.4.1) (2.2.1)\n",
            "Requirement already satisfied: mpmath<=1.3.0 in /usr/local/lib/python3.12/dist-packages (from alignn==2025.4.1) (1.3.0)\n",
            "Requirement already satisfied: dgl>=0.6.0 in /usr/local/lib/python3.12/dist-packages (from alignn==2025.4.1) (2.4.0+cu124)\n",
            "Requirement already satisfied: spglib>=2.0.2 in /usr/local/lib/python3.12/dist-packages (from alignn==2025.4.1) (2.6.0)\n",
            "Requirement already satisfied: scikit-learn>=0.22.2 in /usr/local/lib/python3.12/dist-packages (from alignn==2025.4.1) (1.6.1)\n",
            "Requirement already satisfied: matplotlib>=3.4.1 in /usr/local/lib/python3.12/dist-packages (from alignn==2025.4.1) (3.10.0)\n",
            "Requirement already satisfied: tqdm>=4.60.0 in /usr/local/lib/python3.12/dist-packages (from alignn==2025.4.1) (4.67.1)\n",
            "Requirement already satisfied: pandas>=1.2.3 in /usr/local/lib/python3.12/dist-packages (from alignn==2025.4.1) (2.2.2)\n",
            "Requirement already satisfied: pydantic>=1.8.1 in /usr/local/lib/python3.12/dist-packages (from alignn==2025.4.1) (2.11.9)\n",
            "Requirement already satisfied: pydantic-settings in /usr/local/lib/python3.12/dist-packages (from alignn==2025.4.1) (2.10.1)\n",
            "Requirement already satisfied: flake8>=3.9.1 in /usr/local/lib/python3.12/dist-packages (from alignn==2025.4.1) (7.3.0)\n",
            "Requirement already satisfied: pycodestyle>=2.7.0 in /usr/local/lib/python3.12/dist-packages (from alignn==2025.4.1) (2.14.0)\n",
            "Requirement already satisfied: pydocstyle>=6.0.0 in /usr/local/lib/python3.12/dist-packages (from alignn==2025.4.1) (6.3.0)\n",
            "Requirement already satisfied: pyparsing<3,>=2.2.1 in /usr/local/lib/python3.12/dist-packages (from alignn==2025.4.1) (2.4.7)\n",
            "Requirement already satisfied: ase in /usr/local/lib/python3.12/dist-packages (from alignn==2025.4.1) (3.26.0)\n",
            "Requirement already satisfied: lmdb in /usr/local/lib/python3.12/dist-packages (from alignn==2025.4.1) (1.7.3)\n",
            "Requirement already satisfied: networkx>=2.1 in /usr/local/lib/python3.12/dist-packages (from dgl>=0.6.0->alignn==2025.4.1) (3.5)\n",
            "Requirement already satisfied: packaging in /usr/local/lib/python3.12/dist-packages (from dgl>=0.6.0->alignn==2025.4.1) (25.0)\n",
            "Requirement already satisfied: psutil>=5.8.0 in /usr/local/lib/python3.12/dist-packages (from dgl>=0.6.0->alignn==2025.4.1) (5.9.5)\n",
            "Requirement already satisfied: pyyaml in /usr/local/lib/python3.12/dist-packages (from dgl>=0.6.0->alignn==2025.4.1) (6.0.2)\n",
            "Requirement already satisfied: requests>=2.19.0 in /usr/local/lib/python3.12/dist-packages (from dgl>=0.6.0->alignn==2025.4.1) (2.32.4)\n",
            "Requirement already satisfied: mccabe<0.8.0,>=0.7.0 in /usr/local/lib/python3.12/dist-packages (from flake8>=3.9.1->alignn==2025.4.1) (0.7.0)\n",
            "Requirement already satisfied: pyflakes<3.5.0,>=3.4.0 in /usr/local/lib/python3.12/dist-packages (from flake8>=3.9.1->alignn==2025.4.1) (3.4.0)\n",
            "Requirement already satisfied: joblib>=0.14.1 in /usr/local/lib/python3.12/dist-packages (from jarvis-tools>=2021.07.19->alignn==2025.4.1) (1.5.2)\n",
            "Requirement already satisfied: toolz>=0.9.0 in /usr/local/lib/python3.12/dist-packages (from jarvis-tools>=2021.07.19->alignn==2025.4.1) (0.12.1)\n",
            "Requirement already satisfied: xmltodict>=0.11.0 in /usr/local/lib/python3.12/dist-packages (from jarvis-tools>=2021.07.19->alignn==2025.4.1) (1.0.2)\n",
            "Requirement already satisfied: contourpy>=1.0.1 in /usr/local/lib/python3.12/dist-packages (from matplotlib>=3.4.1->alignn==2025.4.1) (1.3.3)\n",
            "Requirement already satisfied: cycler>=0.10 in /usr/local/lib/python3.12/dist-packages (from matplotlib>=3.4.1->alignn==2025.4.1) (0.12.1)\n",
            "Requirement already satisfied: fonttools>=4.22.0 in /usr/local/lib/python3.12/dist-packages (from matplotlib>=3.4.1->alignn==2025.4.1) (4.60.0)\n",
            "Requirement already satisfied: kiwisolver>=1.3.1 in /usr/local/lib/python3.12/dist-packages (from matplotlib>=3.4.1->alignn==2025.4.1) (1.4.9)\n",
            "Requirement already satisfied: pillow>=8 in /usr/local/lib/python3.12/dist-packages (from matplotlib>=3.4.1->alignn==2025.4.1) (11.3.0)\n",
            "Requirement already satisfied: python-dateutil>=2.7 in /usr/local/lib/python3.12/dist-packages (from matplotlib>=3.4.1->alignn==2025.4.1) (2.9.0.post0)\n",
            "Requirement already satisfied: pytz>=2020.1 in /usr/local/lib/python3.12/dist-packages (from pandas>=1.2.3->alignn==2025.4.1) (2025.2)\n",
            "Requirement already satisfied: tzdata>=2022.7 in /usr/local/lib/python3.12/dist-packages (from pandas>=1.2.3->alignn==2025.4.1) (2025.2)\n",
            "Requirement already satisfied: annotated-types>=0.6.0 in /usr/local/lib/python3.12/dist-packages (from pydantic>=1.8.1->alignn==2025.4.1) (0.7.0)\n",
            "Requirement already satisfied: pydantic-core==2.33.2 in /usr/local/lib/python3.12/dist-packages (from pydantic>=1.8.1->alignn==2025.4.1) (2.33.2)\n",
            "Requirement already satisfied: typing-extensions>=4.12.2 in /usr/local/lib/python3.12/dist-packages (from pydantic>=1.8.1->alignn==2025.4.1) (4.15.0)\n",
            "Requirement already satisfied: typing-inspection>=0.4.0 in /usr/local/lib/python3.12/dist-packages (from pydantic>=1.8.1->alignn==2025.4.1) (0.4.1)\n",
            "Requirement already satisfied: snowballstemmer>=2.2.0 in /usr/local/lib/python3.12/dist-packages (from pydocstyle>=6.0.0->alignn==2025.4.1) (3.0.1)\n",
            "Requirement already satisfied: threadpoolctl>=3.1.0 in /usr/local/lib/python3.12/dist-packages (from scikit-learn>=0.22.2->alignn==2025.4.1) (3.6.0)\n",
            "Requirement already satisfied: filelock in /usr/local/lib/python3.12/dist-packages (from torch<=2.2.1->alignn==2025.4.1) (3.19.1)\n",
            "Requirement already satisfied: sympy in /usr/local/lib/python3.12/dist-packages (from torch<=2.2.1->alignn==2025.4.1) (1.13.3)\n",
            "Requirement already satisfied: jinja2 in /usr/local/lib/python3.12/dist-packages (from torch<=2.2.1->alignn==2025.4.1) (3.1.6)\n",
            "Requirement already satisfied: fsspec in /usr/local/lib/python3.12/dist-packages (from torch<=2.2.1->alignn==2025.4.1) (2025.3.0)\n",
            "Requirement already satisfied: nvidia-cuda-nvrtc-cu12==12.1.105 in /usr/local/lib/python3.12/dist-packages (from torch<=2.2.1->alignn==2025.4.1) (12.1.105)\n",
            "Requirement already satisfied: nvidia-cuda-runtime-cu12==12.1.105 in /usr/local/lib/python3.12/dist-packages (from torch<=2.2.1->alignn==2025.4.1) (12.1.105)\n",
            "Requirement already satisfied: nvidia-cuda-cupti-cu12==12.1.105 in /usr/local/lib/python3.12/dist-packages (from torch<=2.2.1->alignn==2025.4.1) (12.1.105)\n",
            "Requirement already satisfied: nvidia-cudnn-cu12==8.9.2.26 in /usr/local/lib/python3.12/dist-packages (from torch<=2.2.1->alignn==2025.4.1) (8.9.2.26)\n",
            "Requirement already satisfied: nvidia-cublas-cu12==12.1.3.1 in /usr/local/lib/python3.12/dist-packages (from torch<=2.2.1->alignn==2025.4.1) (12.1.3.1)\n",
            "Requirement already satisfied: nvidia-cufft-cu12==11.0.2.54 in /usr/local/lib/python3.12/dist-packages (from torch<=2.2.1->alignn==2025.4.1) (11.0.2.54)\n",
            "Requirement already satisfied: nvidia-curand-cu12==10.3.2.106 in /usr/local/lib/python3.12/dist-packages (from torch<=2.2.1->alignn==2025.4.1) (10.3.2.106)\n",
            "Requirement already satisfied: nvidia-cusolver-cu12==11.4.5.107 in /usr/local/lib/python3.12/dist-packages (from torch<=2.2.1->alignn==2025.4.1) (11.4.5.107)\n",
            "Requirement already satisfied: nvidia-cusparse-cu12==12.1.0.106 in /usr/local/lib/python3.12/dist-packages (from torch<=2.2.1->alignn==2025.4.1) (12.1.0.106)\n",
            "Requirement already satisfied: nvidia-nccl-cu12==2.19.3 in /usr/local/lib/python3.12/dist-packages (from torch<=2.2.1->alignn==2025.4.1) (2.19.3)\n",
            "Requirement already satisfied: nvidia-nvtx-cu12==12.1.105 in /usr/local/lib/python3.12/dist-packages (from torch<=2.2.1->alignn==2025.4.1) (12.1.105)\n",
            "Requirement already satisfied: nvidia-nvjitlink-cu12 in /usr/local/lib/python3.12/dist-packages (from nvidia-cusolver-cu12==11.4.5.107->torch<=2.2.1->alignn==2025.4.1) (12.6.85)\n",
            "Requirement already satisfied: python-dotenv>=0.21.0 in /usr/local/lib/python3.12/dist-packages (from pydantic-settings->alignn==2025.4.1) (1.1.1)\n",
            "Requirement already satisfied: six>=1.5 in /usr/local/lib/python3.12/dist-packages (from python-dateutil>=2.7->matplotlib>=3.4.1->alignn==2025.4.1) (1.17.0)\n",
            "Requirement already satisfied: charset_normalizer<4,>=2 in /usr/local/lib/python3.12/dist-packages (from requests>=2.19.0->dgl>=0.6.0->alignn==2025.4.1) (3.4.3)\n",
            "Requirement already satisfied: idna<4,>=2.5 in /usr/local/lib/python3.12/dist-packages (from requests>=2.19.0->dgl>=0.6.0->alignn==2025.4.1) (3.10)\n",
            "Requirement already satisfied: urllib3<3,>=1.21.1 in /usr/local/lib/python3.12/dist-packages (from requests>=2.19.0->dgl>=0.6.0->alignn==2025.4.1) (2.5.0)\n",
            "Requirement already satisfied: certifi>=2017.4.17 in /usr/local/lib/python3.12/dist-packages (from requests>=2.19.0->dgl>=0.6.0->alignn==2025.4.1) (2025.8.3)\n",
            "Requirement already satisfied: MarkupSafe>=2.0 in /usr/local/lib/python3.12/dist-packages (from jinja2->torch<=2.2.1->alignn==2025.4.1) (3.0.2)\n",
            "Building wheels for collected packages: alignn\n",
            "  Building editable for alignn (pyproject.toml) ... \u001b[?25l\u001b[?25hdone\n",
            "  Created wheel for alignn: filename=alignn-2025.4.1-0.editable-py3-none-any.whl size=24162 sha256=ba9d66bb14343eee8c04757a1415ac1f13d0d39b976140c9db612f112e0d2dc7\n",
            "  Stored in directory: /tmp/pip-ephem-wheel-cache-bgyh5gax/wheels/82/24/7a/79dd4640f9c5e736309481de87c6cc6e0d48d20b687065624a\n",
            "Successfully built alignn\n",
            "Installing collected packages: alignn\n",
            "  Attempting uninstall: alignn\n",
            "    Found existing installation: alignn 2025.4.1\n",
            "    Uninstalling alignn-2025.4.1:\n",
            "      Successfully uninstalled alignn-2025.4.1\n",
            "Successfully installed alignn-2025.4.1\n",
            "CPU times: user 3.7 s, sys: 506 ms, total: 4.21 s\n",
            "Wall time: 18.8 s\n"
          ]
        }
      ]
    },
    {
      "cell_type": "code",
      "source": [
        "# !pip install -q condacolab\n",
        "# import condacolab\n",
        "# condacolab.install()"
      ],
      "metadata": {
        "id": "oeQNR5HODwSh"
      },
      "execution_count": null,
      "outputs": []
    },
    {
      "cell_type": "code",
      "source": [
        "# import condacolab\n",
        "# condacolab.check()"
      ],
      "metadata": {
        "id": "y2qWqbEtDzRC"
      },
      "execution_count": null,
      "outputs": []
    },
    {
      "cell_type": "code",
      "source": [
        "# # %%time\n",
        "# # !pip install -q dgl==1.0.1+cu117 -f https://data.dgl.ai/wheels/cu117/repo.html\n",
        "# # !pip install -q alignn\n",
        "# %%time\n",
        "# !conda install alignn dgl=2.1.0 pytorch torchvision torchaudio pytorch-cuda -c pytorch -c nvidia -y --quiet"
      ],
      "metadata": {
        "id": "EKwh6PqkBLil"
      },
      "execution_count": null,
      "outputs": []
    },
    {
      "cell_type": "markdown",
      "source": [
        "Let's run examples given in  ALIGNN to check installations"
      ],
      "metadata": {
        "id": "lo1f5-zSqKvC"
      }
    },
    {
      "cell_type": "code",
      "source": [
        "import os\n",
        "!pwd\n",
        "os.chdir('/content')\n",
        "# Clone ALIGNN repo to get example folder\n",
        "if not os.path.exists('alignn'):\n",
        "  !git clone https://github.com/atomgptlab/alignn.git\n",
        "\n",
        "os.chdir('alignn')\n"
      ],
      "metadata": {
        "id": "VO7g7axhqUp8",
        "outputId": "c59bd012-dd9a-45af-9b4c-d8391f225523",
        "colab": {
          "base_uri": "https://localhost:8080/"
        }
      },
      "execution_count": 5,
      "outputs": [
        {
          "output_type": "stream",
          "name": "stdout",
          "text": [
            "/content\n"
          ]
        }
      ]
    },
    {
      "cell_type": "code",
      "source": [
        "#Regression\n",
        "!rm -rf *data\n",
        "!train_alignn.py --root_dir \"alignn/examples/sample_data\" --config \"alignn/examples/sample_data/config_example.json\" --output_dir=temp"
      ],
      "metadata": {
        "id": "o3dS-FhYqsOV",
        "outputId": "dd80057f-b5c2-4aee-d2eb-f07d8caac340",
        "colab": {
          "base_uri": "https://localhost:8080/"
        }
      },
      "execution_count": 6,
      "outputs": [
        {
          "output_type": "stream",
          "name": "stdout",
          "text": [
            "DGL backend not selected or invalid.  Assuming PyTorch for now.\n",
            "Setting the default backend to \"pytorch\". You can change it in the ~/.dgl/config.json file or export the DGLBACKEND environment variable.  Valid options are: pytorch, mxnet, tensorflow (all lowercase)\n",
            "/content/alignn/alignn/train.py:42: SyntaxWarning: invalid escape sequence '\\ '\n",
            "  / \\  | |   |_ _/ ___| \\ | | \\ | |\n",
            "world_size 1\n",
            "root_dir alignn/examples/sample_data\n",
            "id_prop_csv_file exists True\n",
            "len dataset 50\n",
            "train_stress False\n",
            "Using LMDB dataset.\n",
            "MAX val: 6.149\n",
            "MIN val: 0.0\n",
            "MAD: 1.0520696\n",
            "Baseline MAE: 2.3805500000000004\n",
            "data range 4.907 0.0\n",
            "line_graph True\n",
            "100% 40/40 [00:01<00:00, 21.93it/s]\n",
            "data range 1.569 0.0\n",
            "line_graph True\n",
            "100% 5/5 [00:00<00:00, 20.61it/s]\n",
            "data range 6.149 0.0\n",
            "line_graph True\n",
            "100% 5/5 [00:00<00:00, 22.44it/s]\n",
            "n_train: 40\n",
            "n_val  : 5\n",
            "n_test : 5\n",
            "rank 0\n",
            "world_size 1\n",
            "config: {'version': '112bbedebdaecf59fb18e11c929080fb2f358246', 'dataset': 'user_data', 'target': 'target', 'atom_features': 'cgcnn', 'neighbor_strategy': 'k-nearest', 'id_tag': 'jid', 'dtype': 'float32', 'random_seed': 123, 'classification_threshold': None, 'n_val': None, 'n_test': None, 'n_train': None, 'train_ratio': 0.8, 'val_ratio': 0.1, 'test_ratio': 0.1, 'target_multiplication_factor': None, 'epochs': 3, 'batch_size': 2, 'weight_decay': 1e-05, 'learning_rate': 0.001, 'filename': 'A', 'warmup_steps': 2000, 'criterion': 'mse', 'optimizer': 'adamw', 'scheduler': 'onecycle', 'pin_memory': False, 'save_dataloader': False, 'write_checkpoint': True, 'write_predictions': True, 'store_outputs': True, 'progress': True, 'log_tensorboard': False, 'standard_scalar_and_pca': False, 'use_canonize': True, 'compute_line_graph': True, 'num_workers': 0, 'cutoff': 8.0, 'cutoff_extra': 3.0, 'max_neighbors': 12, 'keep_data_order': True, 'normalize_graph_level_loss': False, 'distributed': False, 'data_parallel': False, 'n_early_stopping': None, 'output_dir': 'temp', 'use_lmdb': True, 'model': {'name': 'alignn_atomwise', 'alignn_layers': 4, 'gcn_layers': 4, 'atom_input_features': 92, 'edge_input_features': 80, 'triplet_input_features': 40, 'embedding_features': 64, 'hidden_features': 256, 'output_features': 1, 'grad_multiplier': -1, 'calculate_gradient': False, 'atomwise_output_features': 0, 'graphwise_weight': 1.0, 'gradwise_weight': 1.0, 'stresswise_weight': 0.0, 'atomwise_weight': 0.0, 'link': 'identity', 'zero_inflated': False, 'classification': False, 'force_mult_natoms': False, 'energy_mult_natoms': False, 'include_pos_deriv': False, 'use_cutoff_function': False, 'inner_cutoff': 3.0, 'stress_multiplier': 1.0, 'add_reverse_forces': True, 'lg_on_fly': True, 'batch_stress': True, 'multiply_cutoff': False, 'use_penalty': True, 'extra_features': 0, 'exponent': 5, 'penalty_factor': 0.1, 'penalty_threshold': 1.0, 'additional_output_features': 0, 'additional_output_weight': 0.0}}\n",
            "{'atom_features': 'cgcnn',\n",
            " 'batch_size': 2,\n",
            " 'classification_threshold': None,\n",
            " 'compute_line_graph': True,\n",
            " 'criterion': 'mse',\n",
            " 'cutoff': 8.0,\n",
            " 'cutoff_extra': 3.0,\n",
            " 'data_parallel': False,\n",
            " 'dataset': 'user_data',\n",
            " 'distributed': False,\n",
            " 'dtype': 'float32',\n",
            " 'epochs': 3,\n",
            " 'filename': 'A',\n",
            " 'id_tag': 'jid',\n",
            " 'keep_data_order': True,\n",
            " 'learning_rate': 0.001,\n",
            " 'log_tensorboard': False,\n",
            " 'max_neighbors': 12,\n",
            " 'model': {'add_reverse_forces': True,\n",
            "           'additional_output_features': 0,\n",
            "           'additional_output_weight': 0.0,\n",
            "           'alignn_layers': 4,\n",
            "           'atom_input_features': 92,\n",
            "           'atomwise_output_features': 0,\n",
            "           'atomwise_weight': 0.0,\n",
            "           'batch_stress': True,\n",
            "           'calculate_gradient': False,\n",
            "           'classification': False,\n",
            "           'edge_input_features': 80,\n",
            "           'embedding_features': 64,\n",
            "           'energy_mult_natoms': False,\n",
            "           'exponent': 5,\n",
            "           'extra_features': 0,\n",
            "           'force_mult_natoms': False,\n",
            "           'gcn_layers': 4,\n",
            "           'grad_multiplier': -1,\n",
            "           'gradwise_weight': 1.0,\n",
            "           'graphwise_weight': 1.0,\n",
            "           'hidden_features': 256,\n",
            "           'include_pos_deriv': False,\n",
            "           'inner_cutoff': 3.0,\n",
            "           'lg_on_fly': True,\n",
            "           'link': 'identity',\n",
            "           'multiply_cutoff': False,\n",
            "           'name': 'alignn_atomwise',\n",
            "           'output_features': 1,\n",
            "           'penalty_factor': 0.1,\n",
            "           'penalty_threshold': 1.0,\n",
            "           'stress_multiplier': 1.0,\n",
            "           'stresswise_weight': 0.0,\n",
            "           'triplet_input_features': 40,\n",
            "           'use_cutoff_function': False,\n",
            "           'use_penalty': True,\n",
            "           'zero_inflated': False},\n",
            " 'n_early_stopping': None,\n",
            " 'n_test': None,\n",
            " 'n_train': None,\n",
            " 'n_val': None,\n",
            " 'neighbor_strategy': 'k-nearest',\n",
            " 'normalize_graph_level_loss': False,\n",
            " 'num_workers': 0,\n",
            " 'optimizer': 'adamw',\n",
            " 'output_dir': 'temp',\n",
            " 'pin_memory': False,\n",
            " 'progress': True,\n",
            " 'random_seed': 123,\n",
            " 'save_dataloader': False,\n",
            " 'scheduler': 'onecycle',\n",
            " 'standard_scalar_and_pca': False,\n",
            " 'store_outputs': True,\n",
            " 'target': 'target',\n",
            " 'target_multiplication_factor': None,\n",
            " 'test_ratio': 0.1,\n",
            " 'train_ratio': 0.8,\n",
            " 'use_canonize': True,\n",
            " 'use_lmdb': True,\n",
            " 'val_ratio': 0.1,\n",
            " 'version': '112bbedebdaecf59fb18e11c929080fb2f358246',\n",
            " 'warmup_steps': 2000,\n",
            " 'weight_decay': 1e-05,\n",
            " 'write_checkpoint': True,\n",
            " 'write_predictions': True}\n",
            "\n",
            "    _    _     ___ ____ _   _ _   _\n",
            "   / \\  | |   |_ _/ ___| \\ | | \\ | |\n",
            "  / _ \\ | |    | | |  _|  \\| |  \\| |\n",
            " / ___ \\| |___ | | |_| | |\\  | |\\  |\n",
            "/_/   \\_\\_____|___\\____|_| \\_|_| \\_|\n",
            "\n",
            "Model parameters 4026753\n",
            "CUDA available True\n",
            "CUDA device count 1\n",
            "   GPU: Tesla T4. Max memory: 14.741 GB. Platform = Linux.\n",
            "   Pytorch: 2.2.1+cu121. CUDA = 7.5. CUDA Toolkit = 12.1.\n",
            "\n",
            "/usr/local/lib/python3.12/dist-packages/torch/optim/lr_scheduler.py:143: UserWarning: Detected call of `lr_scheduler.step()` before `optimizer.step()`. In PyTorch 1.1.0 and later, you should call them in the opposite order: `optimizer.step()` before `lr_scheduler.step()`.  Failure to do this will result in PyTorch skipping the first value of the learning rate schedule. See more details at https://pytorch.org/docs/stable/optim.html#how-to-adjust-learning-rate\n",
            "  warnings.warn(\"Detected call of `lr_scheduler.step()` before `optimizer.step()`. \"\n",
            "Train Loss:  Epoch    Total      Graph      Atom       Grad       Stress     Addn.      Time      \n",
            "             0        58.3714    58.3714    0.0000     0.0000     0.0000     0.0000     2.53      \n",
            "Val Loss:    Epoch    Total      Graph      Atom       Grad       Stress     Addn.      Time      \n",
            "             0        2.6798     2.6798     0.0000     0.0000     0.0000     0.0000     0.08       Saving model\n",
            "Train Loss:  Epoch    Total      Graph      Atom       Grad       Stress     Addn.      Time      \n",
            "             1        19.5706    19.5706    0.0000     0.0000     0.0000     0.0000     1.65      \n",
            "Val Loss:    Epoch    Total      Graph      Atom       Grad       Stress     Addn.      Time      \n",
            "             1        1.4591     1.4591     0.0000     0.0000     0.0000     0.0000     0.08       Saving model\n",
            "Train Loss:  Epoch    Total      Graph      Atom       Grad       Stress     Addn.      Time      \n",
            "             2        17.3489    17.3489    0.0000     0.0000     0.0000     0.0000     2.15      \n",
            "Val Loss:    Epoch    Total      Graph      Atom       Grad       Stress     Addn.      Time      \n",
            "             2        1.6376     1.6376     0.0000     0.0000     0.0000     0.0000     0.11                 \n",
            "/usr/local/lib/python3.12/dist-packages/torch/nn/modules/loss.py:101: UserWarning: Using a target size (torch.Size([1])) that is different to the input size (torch.Size([])). This will likely lead to incorrect results due to broadcasting. Please ensure they have the same size.\n",
            "  return F.l1_loss(input, target, reduction=self.reduction)\n",
            "TestLoss 2 10.70057737827301\n",
            "Closing LMDB.\n",
            "Time taken (s) 12.423171758651733\n"
          ]
        }
      ]
    },
    {
      "cell_type": "code",
      "source": [
        "\n",
        "import pandas as pd\n"
      ],
      "metadata": {
        "id": "vfAW7-TsKbbf"
      },
      "execution_count": 7,
      "outputs": []
    },
    {
      "cell_type": "code",
      "source": [
        "# Classification\n",
        "!rm -rf *data\n",
        "!train_alignn.py --root_dir \"alignn/examples/sample_data\" --classification_threshold 0.01 --config \"alignn/examples/sample_data/config_example.json\" --output_dir=temp"
      ],
      "metadata": {
        "id": "xxMs-Dhoq3u-",
        "outputId": "2c852f56-c755-44d2-b09d-afc6f947f8d0",
        "colab": {
          "base_uri": "https://localhost:8080/"
        }
      },
      "execution_count": 8,
      "outputs": [
        {
          "output_type": "stream",
          "name": "stdout",
          "text": [
            "world_size 1\n",
            "root_dir alignn/examples/sample_data\n",
            "id_prop_csv_file exists True\n",
            "len dataset 50\n",
            "train_stress False\n",
            "Using LMDB dataset.\n",
            "Using  0.01  for classifying  target  data.\n",
            "Converting target data into 1 and 0.\n",
            "data range 1 0\n",
            "line_graph True\n",
            "100% 40/40 [00:01<00:00, 23.71it/s]\n",
            "data range 1 0\n",
            "line_graph True\n",
            "100% 5/5 [00:00<00:00, 44.56it/s]\n",
            "data range 1 0\n",
            "line_graph True\n",
            "100% 5/5 [00:00<00:00, 25.76it/s]\n",
            "n_train: 40\n",
            "n_val  : 5\n",
            "n_test : 5\n",
            "rank 0\n",
            "world_size 1\n",
            "config: {'version': '112bbedebdaecf59fb18e11c929080fb2f358246', 'dataset': 'user_data', 'target': 'target', 'atom_features': 'cgcnn', 'neighbor_strategy': 'k-nearest', 'id_tag': 'jid', 'dtype': 'float32', 'random_seed': 123, 'classification_threshold': 0.01, 'n_val': None, 'n_test': None, 'n_train': None, 'train_ratio': 0.8, 'val_ratio': 0.1, 'test_ratio': 0.1, 'target_multiplication_factor': None, 'epochs': 3, 'batch_size': 2, 'weight_decay': 1e-05, 'learning_rate': 0.001, 'filename': 'A', 'warmup_steps': 2000, 'criterion': 'mse', 'optimizer': 'adamw', 'scheduler': 'onecycle', 'pin_memory': False, 'save_dataloader': False, 'write_checkpoint': True, 'write_predictions': True, 'store_outputs': True, 'progress': True, 'log_tensorboard': False, 'standard_scalar_and_pca': False, 'use_canonize': True, 'compute_line_graph': True, 'num_workers': 0, 'cutoff': 8.0, 'cutoff_extra': 3.0, 'max_neighbors': 12, 'keep_data_order': True, 'normalize_graph_level_loss': False, 'distributed': False, 'data_parallel': False, 'n_early_stopping': None, 'output_dir': 'temp', 'use_lmdb': True, 'model': {'name': 'alignn_atomwise', 'alignn_layers': 4, 'gcn_layers': 4, 'atom_input_features': 92, 'edge_input_features': 80, 'triplet_input_features': 40, 'embedding_features': 64, 'hidden_features': 256, 'output_features': 1, 'grad_multiplier': -1, 'calculate_gradient': False, 'atomwise_output_features': 0, 'graphwise_weight': 1.0, 'gradwise_weight': 1.0, 'stresswise_weight': 0.0, 'atomwise_weight': 0.0, 'link': 'identity', 'zero_inflated': False, 'classification': False, 'force_mult_natoms': False, 'energy_mult_natoms': False, 'include_pos_deriv': False, 'use_cutoff_function': False, 'inner_cutoff': 3.0, 'stress_multiplier': 1.0, 'add_reverse_forces': True, 'lg_on_fly': True, 'batch_stress': True, 'multiply_cutoff': False, 'use_penalty': True, 'extra_features': 0, 'exponent': 5, 'penalty_factor': 0.1, 'penalty_threshold': 1.0, 'additional_output_features': 0, 'additional_output_weight': 0.0}}\n",
            "{'atom_features': 'cgcnn',\n",
            " 'batch_size': 2,\n",
            " 'classification_threshold': 0.01,\n",
            " 'compute_line_graph': True,\n",
            " 'criterion': 'mse',\n",
            " 'cutoff': 8.0,\n",
            " 'cutoff_extra': 3.0,\n",
            " 'data_parallel': False,\n",
            " 'dataset': 'user_data',\n",
            " 'distributed': False,\n",
            " 'dtype': 'float32',\n",
            " 'epochs': 3,\n",
            " 'filename': 'A',\n",
            " 'id_tag': 'jid',\n",
            " 'keep_data_order': True,\n",
            " 'learning_rate': 0.001,\n",
            " 'log_tensorboard': False,\n",
            " 'max_neighbors': 12,\n",
            " 'model': {'add_reverse_forces': True,\n",
            "           'additional_output_features': 0,\n",
            "           'additional_output_weight': 0.0,\n",
            "           'alignn_layers': 4,\n",
            "           'atom_input_features': 92,\n",
            "           'atomwise_output_features': 0,\n",
            "           'atomwise_weight': 0.0,\n",
            "           'batch_stress': True,\n",
            "           'calculate_gradient': False,\n",
            "           'classification': False,\n",
            "           'edge_input_features': 80,\n",
            "           'embedding_features': 64,\n",
            "           'energy_mult_natoms': False,\n",
            "           'exponent': 5,\n",
            "           'extra_features': 0,\n",
            "           'force_mult_natoms': False,\n",
            "           'gcn_layers': 4,\n",
            "           'grad_multiplier': -1,\n",
            "           'gradwise_weight': 1.0,\n",
            "           'graphwise_weight': 1.0,\n",
            "           'hidden_features': 256,\n",
            "           'include_pos_deriv': False,\n",
            "           'inner_cutoff': 3.0,\n",
            "           'lg_on_fly': True,\n",
            "           'link': 'identity',\n",
            "           'multiply_cutoff': False,\n",
            "           'name': 'alignn_atomwise',\n",
            "           'output_features': 1,\n",
            "           'penalty_factor': 0.1,\n",
            "           'penalty_threshold': 1.0,\n",
            "           'stress_multiplier': 1.0,\n",
            "           'stresswise_weight': 0.0,\n",
            "           'triplet_input_features': 40,\n",
            "           'use_cutoff_function': False,\n",
            "           'use_penalty': True,\n",
            "           'zero_inflated': False},\n",
            " 'n_early_stopping': None,\n",
            " 'n_test': None,\n",
            " 'n_train': None,\n",
            " 'n_val': None,\n",
            " 'neighbor_strategy': 'k-nearest',\n",
            " 'normalize_graph_level_loss': False,\n",
            " 'num_workers': 0,\n",
            " 'optimizer': 'adamw',\n",
            " 'output_dir': 'temp',\n",
            " 'pin_memory': False,\n",
            " 'progress': True,\n",
            " 'random_seed': 123,\n",
            " 'save_dataloader': False,\n",
            " 'scheduler': 'onecycle',\n",
            " 'standard_scalar_and_pca': False,\n",
            " 'store_outputs': True,\n",
            " 'target': 'target',\n",
            " 'target_multiplication_factor': None,\n",
            " 'test_ratio': 0.1,\n",
            " 'train_ratio': 0.8,\n",
            " 'use_canonize': True,\n",
            " 'use_lmdb': True,\n",
            " 'val_ratio': 0.1,\n",
            " 'version': '112bbedebdaecf59fb18e11c929080fb2f358246',\n",
            " 'warmup_steps': 2000,\n",
            " 'weight_decay': 1e-05,\n",
            " 'write_checkpoint': True,\n",
            " 'write_predictions': True}\n",
            "\n",
            "    _    _     ___ ____ _   _ _   _\n",
            "   / \\  | |   |_ _/ ___| \\ | | \\ | |\n",
            "  / _ \\ | |    | | |  _|  \\| |  \\| |\n",
            " / ___ \\| |___ | | |_| | |\\  | |\\  |\n",
            "/_/   \\_\\_____|___\\____|_| \\_|_| \\_|\n",
            "\n",
            "Model parameters 4026753\n",
            "CUDA available True\n",
            "CUDA device count 1\n",
            "   GPU: Tesla T4. Max memory: 14.741 GB. Platform = Linux.\n",
            "   Pytorch: 2.2.1+cu121. CUDA = 7.5. CUDA Toolkit = 12.1.\n",
            "\n",
            "/usr/local/lib/python3.12/dist-packages/torch/optim/lr_scheduler.py:143: UserWarning: Detected call of `lr_scheduler.step()` before `optimizer.step()`. In PyTorch 1.1.0 and later, you should call them in the opposite order: `optimizer.step()` before `lr_scheduler.step()`.  Failure to do this will result in PyTorch skipping the first value of the learning rate schedule. See more details at https://pytorch.org/docs/stable/optim.html#how-to-adjust-learning-rate\n",
            "  warnings.warn(\"Detected call of `lr_scheduler.step()` before `optimizer.step()`. \"\n",
            "Train Loss:  Epoch    Total      Graph      Atom       Grad       Stress     Addn.      Time      \n",
            "             0        -19.6026   -19.6026   0.0000     0.0000     0.0000     0.0000     2.18      \n",
            "Val Loss:    Epoch    Total      Graph      Atom       Grad       Stress     Addn.      Time      \n",
            "             0        -2.0000    -2.0000    0.0000     0.0000     0.0000     0.0000     0.08       Saving model\n",
            "Train Loss:  Epoch    Total      Graph      Atom       Grad       Stress     Addn.      Time      \n",
            "             1        -20.0000   -20.0000   0.0000     0.0000     0.0000     0.0000     1.99      \n",
            "Val Loss:    Epoch    Total      Graph      Atom       Grad       Stress     Addn.      Time      \n",
            "             1        -2.0000    -2.0000    0.0000     0.0000     0.0000     0.0000     0.10                 \n",
            "Train Loss:  Epoch    Total      Graph      Atom       Grad       Stress     Addn.      Time      \n",
            "             2        -20.0000   -20.0000   0.0000     0.0000     0.0000     0.0000     1.92      \n",
            "Val Loss:    Epoch    Total      Graph      Atom       Grad       Stress     Addn.      Time      \n",
            "             2        -2.0000    -2.0000    0.0000     0.0000     0.0000     0.0000     0.07                 \n",
            "TestLoss 2 0\n",
            "predictions [0, 0, 0, 0, 0]\n",
            "targets [1, 1, 0, 0, 1]\n",
            "Test ROCAUC: 0.5\n",
            "Closing LMDB.\n",
            "Time taken (s) 9.108021020889282\n"
          ]
        }
      ]
    },
    {
      "cell_type": "code",
      "source": [
        "# Multi-output model example\n",
        "!rm -rf *data\n",
        "!train_alignn.py --root_dir \"alignn/examples/sample_data_multi_prop\" --config \"alignn/examples/sample_data/config_example.json\" --output_dir=temp"
      ],
      "metadata": {
        "id": "r0jc8_GAq9ha",
        "outputId": "7c97e48e-d37d-471c-9773-8114340d0d3c",
        "colab": {
          "base_uri": "https://localhost:8080/"
        }
      },
      "execution_count": 9,
      "outputs": [
        {
          "output_type": "stream",
          "name": "stdout",
          "text": [
            "world_size 1\n",
            "root_dir alignn/examples/sample_data_multi_prop\n",
            "id_prop_csv_file exists True\n",
            "len dataset 50\n",
            "train_stress False\n",
            "multioutput True\n",
            "lists_length_equal True 300\n",
            "Using LMDB dataset.\n",
            "Data error Boolean value of Tensor with more than one value is ambiguous\n",
            "data range 0.2536265729148943 0.0\n",
            "line_graph True\n",
            "100% 40/40 [00:01<00:00, 33.54it/s]\n",
            "data range 0.15977308829331063 0.0\n",
            "line_graph True\n",
            "100% 5/5 [00:00<00:00, 33.25it/s]\n",
            "data range 0.3556291533152167 0.0\n",
            "line_graph True\n",
            "100% 5/5 [00:00<00:00, 30.49it/s]\n",
            "n_train: 40\n",
            "n_val  : 5\n",
            "n_test : 5\n",
            "rank 0\n",
            "world_size 1\n",
            "config: {'version': '112bbedebdaecf59fb18e11c929080fb2f358246', 'dataset': 'user_data', 'target': 'target', 'atom_features': 'cgcnn', 'neighbor_strategy': 'k-nearest', 'id_tag': 'jid', 'dtype': 'float32', 'random_seed': 123, 'classification_threshold': None, 'n_val': None, 'n_test': None, 'n_train': None, 'train_ratio': 0.8, 'val_ratio': 0.1, 'test_ratio': 0.1, 'target_multiplication_factor': None, 'epochs': 3, 'batch_size': 2, 'weight_decay': 1e-05, 'learning_rate': 0.001, 'filename': 'A', 'warmup_steps': 2000, 'criterion': 'mse', 'optimizer': 'adamw', 'scheduler': 'onecycle', 'pin_memory': False, 'save_dataloader': False, 'write_checkpoint': True, 'write_predictions': True, 'store_outputs': True, 'progress': True, 'log_tensorboard': False, 'standard_scalar_and_pca': False, 'use_canonize': True, 'compute_line_graph': True, 'num_workers': 0, 'cutoff': 8.0, 'cutoff_extra': 3.0, 'max_neighbors': 12, 'keep_data_order': True, 'normalize_graph_level_loss': False, 'distributed': False, 'data_parallel': False, 'n_early_stopping': None, 'output_dir': 'temp', 'use_lmdb': True, 'model': {'name': 'alignn_atomwise', 'alignn_layers': 4, 'gcn_layers': 4, 'atom_input_features': 92, 'edge_input_features': 80, 'triplet_input_features': 40, 'embedding_features': 64, 'hidden_features': 256, 'output_features': 300, 'grad_multiplier': -1, 'calculate_gradient': False, 'atomwise_output_features': 0, 'graphwise_weight': 1.0, 'gradwise_weight': 1.0, 'stresswise_weight': 0.0, 'atomwise_weight': 0.0, 'link': 'identity', 'zero_inflated': False, 'classification': False, 'force_mult_natoms': False, 'energy_mult_natoms': False, 'include_pos_deriv': False, 'use_cutoff_function': False, 'inner_cutoff': 3.0, 'stress_multiplier': 1.0, 'add_reverse_forces': True, 'lg_on_fly': True, 'batch_stress': True, 'multiply_cutoff': False, 'use_penalty': True, 'extra_features': 0, 'exponent': 5, 'penalty_factor': 0.1, 'penalty_threshold': 1.0, 'additional_output_features': 0, 'additional_output_weight': 0.0}}\n",
            "{'atom_features': 'cgcnn',\n",
            " 'batch_size': 2,\n",
            " 'classification_threshold': None,\n",
            " 'compute_line_graph': True,\n",
            " 'criterion': 'mse',\n",
            " 'cutoff': 8.0,\n",
            " 'cutoff_extra': 3.0,\n",
            " 'data_parallel': False,\n",
            " 'dataset': 'user_data',\n",
            " 'distributed': False,\n",
            " 'dtype': 'float32',\n",
            " 'epochs': 3,\n",
            " 'filename': 'A',\n",
            " 'id_tag': 'jid',\n",
            " 'keep_data_order': True,\n",
            " 'learning_rate': 0.001,\n",
            " 'log_tensorboard': False,\n",
            " 'max_neighbors': 12,\n",
            " 'model': {'add_reverse_forces': True,\n",
            "           'additional_output_features': 0,\n",
            "           'additional_output_weight': 0.0,\n",
            "           'alignn_layers': 4,\n",
            "           'atom_input_features': 92,\n",
            "           'atomwise_output_features': 0,\n",
            "           'atomwise_weight': 0.0,\n",
            "           'batch_stress': True,\n",
            "           'calculate_gradient': False,\n",
            "           'classification': False,\n",
            "           'edge_input_features': 80,\n",
            "           'embedding_features': 64,\n",
            "           'energy_mult_natoms': False,\n",
            "           'exponent': 5,\n",
            "           'extra_features': 0,\n",
            "           'force_mult_natoms': False,\n",
            "           'gcn_layers': 4,\n",
            "           'grad_multiplier': -1,\n",
            "           'gradwise_weight': 1.0,\n",
            "           'graphwise_weight': 1.0,\n",
            "           'hidden_features': 256,\n",
            "           'include_pos_deriv': False,\n",
            "           'inner_cutoff': 3.0,\n",
            "           'lg_on_fly': True,\n",
            "           'link': 'identity',\n",
            "           'multiply_cutoff': False,\n",
            "           'name': 'alignn_atomwise',\n",
            "           'output_features': 300,\n",
            "           'penalty_factor': 0.1,\n",
            "           'penalty_threshold': 1.0,\n",
            "           'stress_multiplier': 1.0,\n",
            "           'stresswise_weight': 0.0,\n",
            "           'triplet_input_features': 40,\n",
            "           'use_cutoff_function': False,\n",
            "           'use_penalty': True,\n",
            "           'zero_inflated': False},\n",
            " 'n_early_stopping': None,\n",
            " 'n_test': None,\n",
            " 'n_train': None,\n",
            " 'n_val': None,\n",
            " 'neighbor_strategy': 'k-nearest',\n",
            " 'normalize_graph_level_loss': False,\n",
            " 'num_workers': 0,\n",
            " 'optimizer': 'adamw',\n",
            " 'output_dir': 'temp',\n",
            " 'pin_memory': False,\n",
            " 'progress': True,\n",
            " 'random_seed': 123,\n",
            " 'save_dataloader': False,\n",
            " 'scheduler': 'onecycle',\n",
            " 'standard_scalar_and_pca': False,\n",
            " 'store_outputs': True,\n",
            " 'target': 'target',\n",
            " 'target_multiplication_factor': None,\n",
            " 'test_ratio': 0.1,\n",
            " 'train_ratio': 0.8,\n",
            " 'use_canonize': True,\n",
            " 'use_lmdb': True,\n",
            " 'val_ratio': 0.1,\n",
            " 'version': '112bbedebdaecf59fb18e11c929080fb2f358246',\n",
            " 'warmup_steps': 2000,\n",
            " 'weight_decay': 1e-05,\n",
            " 'write_checkpoint': True,\n",
            " 'write_predictions': True}\n",
            "\n",
            "    _    _     ___ ____ _   _ _   _\n",
            "   / \\  | |   |_ _/ ___| \\ | | \\ | |\n",
            "  / _ \\ | |    | | |  _|  \\| |  \\| |\n",
            " / ___ \\| |___ | | |_| | |\\  | |\\  |\n",
            "/_/   \\_\\_____|___\\____|_| \\_|_| \\_|\n",
            "\n",
            "Model parameters 4103596\n",
            "CUDA available True\n",
            "CUDA device count 1\n",
            "   GPU: Tesla T4. Max memory: 14.741 GB. Platform = Linux.\n",
            "   Pytorch: 2.2.1+cu121. CUDA = 7.5. CUDA Toolkit = 12.1.\n",
            "\n",
            "/usr/local/lib/python3.12/dist-packages/torch/optim/lr_scheduler.py:143: UserWarning: Detected call of `lr_scheduler.step()` before `optimizer.step()`. In PyTorch 1.1.0 and later, you should call them in the opposite order: `optimizer.step()` before `lr_scheduler.step()`.  Failure to do this will result in PyTorch skipping the first value of the learning rate schedule. See more details at https://pytorch.org/docs/stable/optim.html#how-to-adjust-learning-rate\n",
            "  warnings.warn(\"Detected call of `lr_scheduler.step()` before `optimizer.step()`. \"\n",
            "Train Loss:  Epoch    Total      Graph      Atom       Grad       Stress     Addn.      Time      \n",
            "             0        10.2793    10.2793    0.0000     0.0000     0.0000     0.0000     2.21      \n",
            "Val Loss:    Epoch    Total      Graph      Atom       Grad       Stress     Addn.      Time      \n",
            "             0        0.5108     0.5108     0.0000     0.0000     0.0000     0.0000     0.08       Saving model\n",
            "Train Loss:  Epoch    Total      Graph      Atom       Grad       Stress     Addn.      Time      \n",
            "             1        4.2218     4.2218     0.0000     0.0000     0.0000     0.0000     1.62      \n",
            "Val Loss:    Epoch    Total      Graph      Atom       Grad       Stress     Addn.      Time      \n",
            "             1        0.4207     0.4207     0.0000     0.0000     0.0000     0.0000     0.07       Saving model\n",
            "Train Loss:  Epoch    Total      Graph      Atom       Grad       Stress     Addn.      Time      \n",
            "             2        3.2085     3.2085     0.0000     0.0000     0.0000     0.0000     1.61      \n",
            "Val Loss:    Epoch    Total      Graph      Atom       Grad       Stress     Addn.      Time      \n",
            "             2        0.3038     0.3038     0.0000     0.0000     0.0000     0.0000     0.07       Saving model\n",
            "/usr/local/lib/python3.12/dist-packages/torch/nn/modules/loss.py:101: UserWarning: Using a target size (torch.Size([1, 300])) that is different to the input size (torch.Size([300])). This will likely lead to incorrect results due to broadcasting. Please ensure they have the same size.\n",
            "  return F.l1_loss(input, target, reduction=self.reduction)\n",
            "TestLoss 2 0.8379016667604446\n",
            "Closing LMDB.\n",
            "Time taken (s) 9.004546403884888\n"
          ]
        }
      ]
    },
    {
      "cell_type": "code",
      "source": [
        "# Force field training\n",
        "!rm -rf *data\n",
        "!train_alignn.py --root_dir \"alignn/examples/sample_data_ff\" --config \"alignn/examples/sample_data_ff/config_example_atomwise.json\" --output_dir=\"temp\""
      ],
      "metadata": {
        "id": "ZThzx9K9q9d-",
        "outputId": "20ff0867-8e7e-4352-9621-9637876664b3",
        "colab": {
          "base_uri": "https://localhost:8080/"
        }
      },
      "execution_count": 10,
      "outputs": [
        {
          "output_type": "stream",
          "name": "stdout",
          "text": [
            "world_size 1\n",
            "root_dir alignn/examples/sample_data_ff\n",
            "len dataset 50\n",
            "train_stress True\n",
            "Using LMDB dataset.\n",
            "MAX val: -24.52653862\n",
            "MIN val: -42.04135008\n",
            "MAD: 7.884625411000001\n",
            "Baseline MAE: 11.991239256250003\n",
            "data range -24.52653862 -42.04135008\n",
            "line_graph True\n",
            "100% 40/40 [00:00<00:00, 272.64it/s]\n",
            "data range -24.54448655 -24.55207943\n",
            "line_graph True\n",
            "100% 5/5 [00:00<00:00, 314.65it/s]\n",
            "data range -24.54929028 -24.5582018\n",
            "line_graph True\n",
            "100% 5/5 [00:00<00:00, 319.67it/s]\n",
            "n_train: 40\n",
            "n_val  : 5\n",
            "n_test : 5\n",
            "rank 0\n",
            "world_size 1\n",
            "config: {'version': '112bbedebdaecf59fb18e11c929080fb2f358246', 'dataset': 'user_data', 'target': 'target', 'atom_features': 'cgcnn', 'neighbor_strategy': 'radius_graph', 'id_tag': 'jid', 'dtype': 'float32', 'random_seed': 123, 'classification_threshold': None, 'n_val': None, 'n_test': None, 'n_train': None, 'train_ratio': 0.8, 'val_ratio': 0.1, 'test_ratio': 0.1, 'target_multiplication_factor': None, 'epochs': 3, 'batch_size': 2, 'weight_decay': 1e-05, 'learning_rate': 0.001, 'filename': 'B', 'warmup_steps': 2000, 'criterion': 'l1', 'optimizer': 'adamw', 'scheduler': 'onecycle', 'pin_memory': False, 'save_dataloader': False, 'write_checkpoint': True, 'write_predictions': True, 'store_outputs': False, 'progress': True, 'log_tensorboard': False, 'standard_scalar_and_pca': False, 'use_canonize': True, 'compute_line_graph': True, 'num_workers': 0, 'cutoff': 4.0, 'cutoff_extra': 3.0, 'max_neighbors': 12, 'keep_data_order': True, 'normalize_graph_level_loss': False, 'distributed': False, 'data_parallel': False, 'n_early_stopping': None, 'output_dir': 'temp', 'use_lmdb': True, 'model': {'name': 'alignn_atomwise', 'alignn_layers': 1, 'gcn_layers': 1, 'atom_input_features': 92, 'edge_input_features': 80, 'triplet_input_features': 40, 'embedding_features': 64, 'hidden_features': 64, 'output_features': 1, 'grad_multiplier': -1, 'calculate_gradient': True, 'atomwise_output_features': 0, 'graphwise_weight': 0.85, 'gradwise_weight': 0.05, 'stresswise_weight': 0.05, 'atomwise_weight': 0.0, 'link': 'identity', 'zero_inflated': False, 'classification': False, 'force_mult_natoms': False, 'energy_mult_natoms': True, 'include_pos_deriv': False, 'use_cutoff_function': False, 'inner_cutoff': 3.0, 'stress_multiplier': 1.0, 'add_reverse_forces': True, 'lg_on_fly': True, 'batch_stress': True, 'multiply_cutoff': False, 'use_penalty': True, 'extra_features': 0, 'exponent': 5, 'penalty_factor': 0.1, 'penalty_threshold': 1.0, 'additional_output_features': 0, 'additional_output_weight': 0.0}}\n",
            "{'atom_features': 'cgcnn',\n",
            " 'batch_size': 2,\n",
            " 'classification_threshold': None,\n",
            " 'compute_line_graph': True,\n",
            " 'criterion': 'l1',\n",
            " 'cutoff': 4.0,\n",
            " 'cutoff_extra': 3.0,\n",
            " 'data_parallel': False,\n",
            " 'dataset': 'user_data',\n",
            " 'distributed': False,\n",
            " 'dtype': 'float32',\n",
            " 'epochs': 3,\n",
            " 'filename': 'B',\n",
            " 'id_tag': 'jid',\n",
            " 'keep_data_order': True,\n",
            " 'learning_rate': 0.001,\n",
            " 'log_tensorboard': False,\n",
            " 'max_neighbors': 12,\n",
            " 'model': {'add_reverse_forces': True,\n",
            "           'additional_output_features': 0,\n",
            "           'additional_output_weight': 0.0,\n",
            "           'alignn_layers': 1,\n",
            "           'atom_input_features': 92,\n",
            "           'atomwise_output_features': 0,\n",
            "           'atomwise_weight': 0.0,\n",
            "           'batch_stress': True,\n",
            "           'calculate_gradient': True,\n",
            "           'classification': False,\n",
            "           'edge_input_features': 80,\n",
            "           'embedding_features': 64,\n",
            "           'energy_mult_natoms': True,\n",
            "           'exponent': 5,\n",
            "           'extra_features': 0,\n",
            "           'force_mult_natoms': False,\n",
            "           'gcn_layers': 1,\n",
            "           'grad_multiplier': -1,\n",
            "           'gradwise_weight': 0.05,\n",
            "           'graphwise_weight': 0.85,\n",
            "           'hidden_features': 64,\n",
            "           'include_pos_deriv': False,\n",
            "           'inner_cutoff': 3.0,\n",
            "           'lg_on_fly': True,\n",
            "           'link': 'identity',\n",
            "           'multiply_cutoff': False,\n",
            "           'name': 'alignn_atomwise',\n",
            "           'output_features': 1,\n",
            "           'penalty_factor': 0.1,\n",
            "           'penalty_threshold': 1.0,\n",
            "           'stress_multiplier': 1.0,\n",
            "           'stresswise_weight': 0.05,\n",
            "           'triplet_input_features': 40,\n",
            "           'use_cutoff_function': False,\n",
            "           'use_penalty': True,\n",
            "           'zero_inflated': False},\n",
            " 'n_early_stopping': None,\n",
            " 'n_test': None,\n",
            " 'n_train': None,\n",
            " 'n_val': None,\n",
            " 'neighbor_strategy': 'radius_graph',\n",
            " 'normalize_graph_level_loss': False,\n",
            " 'num_workers': 0,\n",
            " 'optimizer': 'adamw',\n",
            " 'output_dir': 'temp',\n",
            " 'pin_memory': False,\n",
            " 'progress': True,\n",
            " 'random_seed': 123,\n",
            " 'save_dataloader': False,\n",
            " 'scheduler': 'onecycle',\n",
            " 'standard_scalar_and_pca': False,\n",
            " 'store_outputs': False,\n",
            " 'target': 'target',\n",
            " 'target_multiplication_factor': None,\n",
            " 'test_ratio': 0.1,\n",
            " 'train_ratio': 0.8,\n",
            " 'use_canonize': True,\n",
            " 'use_lmdb': True,\n",
            " 'val_ratio': 0.1,\n",
            " 'version': '112bbedebdaecf59fb18e11c929080fb2f358246',\n",
            " 'warmup_steps': 2000,\n",
            " 'weight_decay': 1e-05,\n",
            " 'write_checkpoint': True,\n",
            " 'write_predictions': True}\n",
            "\n",
            "    _    _     ___ ____ _   _ _   _\n",
            "   / \\  | |   |_ _/ ___| \\ | | \\ | |\n",
            "  / _ \\ | |    | | |  _|  \\| |  \\| |\n",
            " / ___ \\| |___ | | |_| | |\\  | |\\  |\n",
            "/_/   \\_\\_____|___\\____|_| \\_|_| \\_|\n",
            "\n",
            "Model parameters 85953\n",
            "CUDA available True\n",
            "CUDA device count 1\n",
            "   GPU: Tesla T4. Max memory: 14.741 GB. Platform = Linux.\n",
            "   Pytorch: 2.2.1+cu121. CUDA = 7.5. CUDA Toolkit = 12.1.\n",
            "\n",
            "/usr/local/lib/python3.12/dist-packages/torch/optim/lr_scheduler.py:143: UserWarning: Detected call of `lr_scheduler.step()` before `optimizer.step()`. In PyTorch 1.1.0 and later, you should call them in the opposite order: `optimizer.step()` before `lr_scheduler.step()`.  Failure to do this will result in PyTorch skipping the first value of the learning rate schedule. See more details at https://pytorch.org/docs/stable/optim.html#how-to-adjust-learning-rate\n",
            "  warnings.warn(\"Detected call of `lr_scheduler.step()` before `optimizer.step()`. \"\n",
            "Train Loss:  Epoch    Total      Graph      Atom       Grad       Stress     Addn.      Time      \n",
            "             0        555.0002   552.2618   0.0000     0.0191     2.7193     0.0000     2.13      \n",
            "Val Loss:    Epoch    Total      Graph      Atom       Grad       Stress     Addn.      Time      \n",
            "             0        30.6021    30.2776    0.0000     0.0011     0.3234     0.0000     0.06       Saving model\n",
            "Train Loss:  Epoch    Total      Graph      Atom       Grad       Stress     Addn.      Time      \n",
            "             1        470.3142   467.6233   0.0000     0.0170     2.6739     0.0000     1.33      \n",
            "Val Loss:    Epoch    Total      Graph      Atom       Grad       Stress     Addn.      Time      \n",
            "             1        23.9374    23.6130    0.0000     0.0013     0.3231     0.0000     0.06       Saving model\n",
            "Train Loss:  Epoch    Total      Graph      Atom       Grad       Stress     Addn.      Time      \n",
            "             2        407.6144   404.9175   0.0000     0.0165     2.6804     0.0000     1.93      \n",
            "Val Loss:    Epoch    Total      Graph      Atom       Grad       Stress     Addn.      Time      \n",
            "             2        17.7039    17.3783    0.0000     0.0011     0.3244     0.0000     0.10       Saving model\n",
            "/usr/local/lib/python3.12/dist-packages/torch/nn/modules/loss.py:101: UserWarning: Using a target size (torch.Size([1])) that is different to the input size (torch.Size([])). This will likely lead to incorrect results due to broadcasting. Please ensure they have the same size.\n",
            "  return F.l1_loss(input, target, reduction=self.reduction)\n",
            "TestLoss 2 43.97362995147705\n",
            "Closing LMDB.\n",
            "Time taken (s) 7.716604471206665\n"
          ]
        }
      ]
    },
    {
      "cell_type": "code",
      "source": [],
      "metadata": {
        "id": "eRqofUskq9bL"
      },
      "execution_count": null,
      "outputs": []
    },
    {
      "cell_type": "code",
      "source": [],
      "metadata": {
        "id": "dObLL-LIq9Ye"
      },
      "execution_count": null,
      "outputs": []
    },
    {
      "cell_type": "markdown",
      "source": [
        "Now, let's install jarvis_leaderboard"
      ],
      "metadata": {
        "id": "Xbo_Fvx4L0N7"
      }
    },
    {
      "cell_type": "code",
      "execution_count": 11,
      "metadata": {
        "colab": {
          "base_uri": "https://localhost:8080/"
        },
        "id": "e7ccy1ysLBV5",
        "outputId": "d3358766-5b0f-46d6-a1eb-871d7f746a8e"
      },
      "outputs": [
        {
          "output_type": "stream",
          "name": "stdout",
          "text": [
            "\u001b[2K   \u001b[90m━━━━━━━━━━━━━━━━━━━━━━━━━━━━━━━━━━━━━━━━\u001b[0m \u001b[32m72.1/72.1 MB\u001b[0m \u001b[31m5.9 MB/s\u001b[0m eta \u001b[36m0:00:00\u001b[0m\n",
            "\u001b[2K   \u001b[90m━━━━━━━━━━━━━━━━━━━━━━━━━━━━━━━━━━━━━━━━\u001b[0m \u001b[32m1.5/1.5 MB\u001b[0m \u001b[31m82.8 MB/s\u001b[0m eta \u001b[36m0:00:00\u001b[0m\n",
            "\u001b[?25h\u001b[31mERROR: pip's dependency resolver does not currently take into account all the packages that are installed. This behaviour is the source of the following dependency conflicts.\n",
            "textblob 0.19.0 requires nltk>=3.9, but you have nltk 3.8.1 which is incompatible.\u001b[0m\u001b[31m\n",
            "\u001b[0mCPU times: user 1.92 s, sys: 287 ms, total: 2.2 s\n",
            "Wall time: 16.2 s\n"
          ]
        }
      ],
      "source": [
        "%%time\n",
        "pip install -q jarvis_leaderboard"
      ]
    },
    {
      "cell_type": "markdown",
      "source": [
        "Check if you can import libraries"
      ],
      "metadata": {
        "id": "94r-fiT7M5Jh"
      }
    },
    {
      "cell_type": "code",
      "source": [
        "import jarvis_leaderboard"
      ],
      "metadata": {
        "id": "x6JlXp7Ibqma"
      },
      "execution_count": 12,
      "outputs": []
    },
    {
      "cell_type": "code",
      "source": [
        "import alignn"
      ],
      "metadata": {
        "id": "pgzOidKRMUj0"
      },
      "execution_count": 13,
      "outputs": []
    },
    {
      "cell_type": "markdown",
      "source": [
        "Let's populate a dataset (AI-SinglePropertyPrediction-exfoliation_energy-dft_3d-test-mae). Files will be saved in the output_path i.e. 'Out' directory"
      ],
      "metadata": {
        "id": "OcIup4i_Mu6A"
      }
    },
    {
      "cell_type": "code",
      "source": [
        "!jarvis_populate_data.py --benchmark_file AI-SinglePropertyPrediction-exfoliation_energy-dft_3d-test-mae --output_path=Out"
      ],
      "metadata": {
        "colab": {
          "base_uri": "https://localhost:8080/"
        },
        "id": "7tY6aR6FLx7Z",
        "outputId": "45f47a7b-5458-4c5c-f178-0a689e5af910"
      },
      "execution_count": 14,
      "outputs": [
        {
          "output_type": "stream",
          "name": "stdout",
          "text": [
            "benchmark_file AI-SinglePropertyPrediction-exfoliation_energy-dft_3d-test-mae\n",
            "dataset dft_3d\n",
            "output_path Out\n",
            "property exfoliation_energy\n",
            "method AI\n",
            "task SinglePropertyPrediction\n",
            "id_tag jid\n",
            "out_format poscar\n",
            "dataset file to be used /usr/local/lib/python3.12/dist-packages/jarvis_leaderboard/benchmarks/AI/SinglePropertyPrediction/dft_3d_exfoliation_energy.json.zip\n",
            "Currently for atomistic datasets only.\n",
            "https://jarvis-tools.readthedocs.io/en/master/databases.html\n",
            "Obtaining 3D dataset 76k ...\n",
            "Reference:https://www.nature.com/articles/s41524-020-00440-1\n",
            "Other versions:https://doi.org/10.6084/m9.figshare.6815699\n",
            "100% 40.8M/40.8M [00:02<00:00, 14.8MiB/s]\n",
            "Loading the zipfile...\n",
            "Loading completed.\n",
            "number of training samples 650\n",
            "number of validation samples 81\n",
            "number of test samples 81\n"
          ]
        }
      ]
    },
    {
      "cell_type": "code",
      "source": [
        "!ls Out"
      ],
      "metadata": {
        "id": "ZWqO8PXTr7rm",
        "outputId": "998bfb3b-0507-43aa-ca00-3dc9670d6b34",
        "colab": {
          "base_uri": "https://localhost:8080/"
        }
      },
      "execution_count": 15,
      "outputs": [
        {
          "output_type": "stream",
          "name": "stdout",
          "text": [
            "dataset_info.json  JVASP-1417\tJVASP-29519  JVASP-38032  JVASP-5347\n",
            "id_prop.csv\t   JVASP-1423\tJVASP-29539  JVASP-3807   JVASP-535\n",
            "JVASP-10\t   JVASP-1429\tJVASP-29548  JVASP-3810   JVASP-5353\n",
            "JVASP-10173\t   JVASP-143\tJVASP-29556  JVASP-3816   JVASP-5359\n",
            "JVASP-10177\t   JVASP-14343\tJVASP-29560  JVASP-3822   JVASP-536\n",
            "JVASP-10209\t   JVASP-14409\tJVASP-29569  JVASP-3825   JVASP-5362\n",
            "JVASP-10571\t   JVASP-149\tJVASP-29572  JVASP-3831   JVASP-5365\n",
            "JVASP-1067\t   JVASP-14999\tJVASP-29574  JVASP-3837   JVASP-5371\n",
            "JVASP-1070\t   JVASP-15129\tJVASP-29575  JVASP-3840   JVASP-5374\n",
            "JVASP-10734\t   JVASP-15198\tJVASP-29590  JVASP-3843   JVASP-5386\n",
            "JVASP-10796\t   JVASP-152\tJVASP-29591  JVASP-3846   JVASP-5395\n",
            "JVASP-11170\t   JVASP-1540\tJVASP-29593  JVASP-3849   JVASP-54\n",
            "JVASP-1157\t   JVASP-15421\tJVASP-29595  JVASP-3855   JVASP-5413\n",
            "JVASP-11739\t   JVASP-155\tJVASP-296    JVASP-3891   JVASP-5416\n",
            "JVASP-11996\t   JVASP-16024\tJVASP-29611  JVASP-3894   JVASP-542\n",
            "JVASP-11997\t   JVASP-161\tJVASP-29617  JVASP-3897   JVASP-5428\n",
            "JVASP-11999\t   JVASP-164\tJVASP-29621  JVASP-39\t  JVASP-5431\n",
            "JVASP-12001\t   JVASP-167\tJVASP-29624  JVASP-3903   JVASP-5437\n",
            "JVASP-12003\t   JVASP-16763\tJVASP-29629  JVASP-3906   JVASP-5443\n",
            "JVASP-12005\t   JVASP-17\tJVASP-29630  JVASP-3909   JVASP-5449\n",
            "JVASP-12009\t   JVASP-170\tJVASP-29642  JVASP-3915   JVASP-5458\n",
            "JVASP-12010\t   JVASP-17278\tJVASP-29647  JVASP-3918   JVASP-5473\n",
            "JVASP-12013\t   JVASP-173\tJVASP-29651  JVASP-3924   JVASP-5476\n",
            "JVASP-12014\t   JVASP-17551\tJVASP-29655  JVASP-3936   JVASP-54761\n",
            "JVASP-12015\t   JVASP-17589\tJVASP-29666  JVASP-3939   JVASP-54795\n",
            "JVASP-12017\t   JVASP-176\tJVASP-29673  JVASP-3942   JVASP-54835\n",
            "JVASP-12018\t   JVASP-17636\tJVASP-29700  JVASP-3987   JVASP-5485\n",
            "JVASP-12019\t   JVASP-18357\tJVASP-29701  JVASP-3990   JVASP-5503\n",
            "JVASP-12023\t   JVASP-18430\tJVASP-29712  JVASP-3993   JVASP-5533\n",
            "JVASP-12025\t   JVASP-18444\tJVASP-29713  JVASP-4020   JVASP-5560\n",
            "JVASP-12026\t   JVASP-18461\tJVASP-29714  JVASP-4023   JVASP-55638\n",
            "JVASP-12027\t   JVASP-18462\tJVASP-29722  JVASP-4026   JVASP-5566\n",
            "JVASP-12028\t   JVASP-18481\tJVASP-29728  JVASP-4035   JVASP-5575\n",
            "JVASP-12031\t   JVASP-18883\tJVASP-29730  JVASP-4044   JVASP-5578\n",
            "JVASP-12032\t   JVASP-189\tJVASP-29732  JVASP-4056   JVASP-5581\n",
            "JVASP-12033\t   JVASP-18938\tJVASP-29744  JVASP-4059   JVASP-5590\n",
            "JVASP-12034\t   JVASP-19033\tJVASP-29780  JVASP-4074   JVASP-5596\n",
            "JVASP-12037\t   JVASP-1915\tJVASP-29788  JVASP-4077   JVASP-5599\n",
            "JVASP-12038\t   JVASP-192\tJVASP-29793  JVASP-4083   JVASP-5602\n",
            "JVASP-12047\t   JVASP-1927\tJVASP-29802  JVASP-4089   JVASP-5611\n",
            "JVASP-12048\t   JVASP-1930\tJVASP-29803  JVASP-4101   JVASP-5629\n",
            "JVASP-12049\t   JVASP-1933\tJVASP-29884  JVASP-4119   JVASP-5632\n",
            "JVASP-12050\t   JVASP-195\tJVASP-299    JVASP-4167   JVASP-5653\n",
            "JVASP-12051\t   JVASP-1963\tJVASP-29906  JVASP-4180   JVASP-56556\n",
            "JVASP-12056\t   JVASP-19672\tJVASP-29946  JVASP-4186   JVASP-5656\n",
            "JVASP-12057\t   JVASP-19704\tJVASP-29960  JVASP-4189   JVASP-5659\n",
            "JVASP-12058\t   JVASP-19799\tJVASP-29967  JVASP-4198   JVASP-56606\n",
            "JVASP-12063\t   JVASP-1981\tJVASP-29974  JVASP-4201   JVASP-5677\n",
            "JVASP-12064\t   JVASP-1984\tJVASP-29975  JVASP-4204   JVASP-5683\n",
            "JVASP-12065\t   JVASP-1990\tJVASP-30     JVASP-4210   JVASP-56984\n",
            "JVASP-12066\t   JVASP-2020\tJVASP-30040  JVASP-4213   JVASP-57\n",
            "JVASP-12068\t   JVASP-2026\tJVASP-30044  JVASP-4216   JVASP-5710\n",
            "JVASP-12069\t   JVASP-2035\tJVASP-30059  JVASP-4219   JVASP-5713\n",
            "JVASP-12071\t   JVASP-2038\tJVASP-30062  JVASP-4222   JVASP-57149\n",
            "JVASP-12074\t   JVASP-2041\tJVASP-30162  JVASP-4231   JVASP-572\n",
            "JVASP-12077\t   JVASP-20485\tJVASP-30166  JVASP-4234   JVASP-5722\n",
            "JVASP-12079\t   JVASP-2053\tJVASP-30172  JVASP-4240   JVASP-5743\n",
            "JVASP-12080\t   JVASP-2056\tJVASP-30173  JVASP-4243   JVASP-57459\n",
            "JVASP-12082\t   JVASP-2065\tJVASP-30175  JVASP-4255   JVASP-5752\n",
            "JVASP-12083\t   JVASP-2068\tJVASP-30176  JVASP-4258   JVASP-57567\n",
            "JVASP-12085\t   JVASP-2091\tJVASP-30181  JVASP-4261   JVASP-5767\n",
            "JVASP-12086\t   JVASP-210\tJVASP-30182  JVASP-4264   JVASP-5770\n",
            "JVASP-12087\t   JVASP-2106\tJVASP-30183  JVASP-4267   JVASP-5779\n",
            "JVASP-12088\t   JVASP-21244\tJVASP-30186  JVASP-4273   JVASP-578\n",
            "JVASP-12097\t   JVASP-21253\tJVASP-30189  JVASP-4276   JVASP-5809\n",
            "JVASP-12101\t   JVASP-213\tJVASP-30200  JVASP-4279   JVASP-581\n",
            "JVASP-12102\t   JVASP-216\tJVASP-30208  JVASP-4282   JVASP-58187\n",
            "JVASP-12103\t   JVASP-2169\tJVASP-30213  JVASP-4285   JVASP-5824\n",
            "JVASP-12104\t   JVASP-219\tJVASP-30241  JVASP-4295   JVASP-5839\n",
            "JVASP-12110\t   JVASP-2196\tJVASP-30279  JVASP-4298   JVASP-5845\n",
            "JVASP-12111\t   JVASP-2244\tJVASP-30280  JVASP-4313   JVASP-5851\n",
            "JVASP-12112\t   JVASP-22529\tJVASP-30282  JVASP-4331   JVASP-5857\n",
            "JVASP-12119\t   JVASP-22560\tJVASP-30289  JVASP-43370  JVASP-589\n",
            "JVASP-12122\t   JVASP-22635\tJVASP-30312  JVASP-4343   JVASP-58999\n",
            "JVASP-12125\t   JVASP-22646\tJVASP-30320  JVASP-4346   JVASP-590\n",
            "JVASP-12128\t   JVASP-22647\tJVASP-3033   JVASP-43561  JVASP-591\n",
            "JVASP-12129\t   JVASP-22648\tJVASP-30348  JVASP-4361   JVASP-593\n",
            "JVASP-12130\t   JVASP-22656\tJVASP-3039   JVASP-4364   JVASP-594\n",
            "JVASP-12131\t   JVASP-22677\tJVASP-30423  JVASP-4385   JVASP-596\n",
            "JVASP-12133\t   JVASP-228\tJVASP-30453  JVASP-4388   JVASP-60\n",
            "JVASP-12136\t   JVASP-231\tJVASP-30460  JVASP-4397   JVASP-600\n",
            "JVASP-12137\t   JVASP-2385\tJVASP-30462  JVASP-4409   JVASP-601\n",
            "JVASP-12138\t   JVASP-240\tJVASP-30472  JVASP-4418   JVASP-602\n",
            "JVASP-12139\t   JVASP-24602\tJVASP-30475  JVASP-4423   JVASP-603\n",
            "JVASP-12141\t   JVASP-249\tJVASP-30479  JVASP-4438   JVASP-60623\n",
            "JVASP-12142\t   JVASP-25\tJVASP-30495  JVASP-4456   JVASP-60627\n",
            "JVASP-12144\t   JVASP-25047\tJVASP-305    JVASP-4489   JVASP-60631\n",
            "JVASP-12148\t   JVASP-25097\tJVASP-30503  JVASP-4495   JVASP-60641\n",
            "JVASP-12153\t   JVASP-25144\tJVASP-30504  JVASP-4498   JVASP-60643\n",
            "JVASP-12158\t   JVASP-252\tJVASP-30507  JVASP-45\t  JVASP-60650\n",
            "JVASP-12160\t   JVASP-2523\tJVASP-30519  JVASP-4501   JVASP-60671\n",
            "JVASP-12161\t   JVASP-2526\tJVASP-30538  JVASP-4510   JVASP-60684\n",
            "JVASP-12163\t   JVASP-25690\tJVASP-30547  JVASP-4513   JVASP-60702\n",
            "JVASP-12164\t   JVASP-26\tJVASP-30548  JVASP-4519   JVASP-60703\n",
            "JVASP-12165\t   JVASP-260\tJVASP-30564  JVASP-4531   JVASP-60771\n",
            "JVASP-12166\t   JVASP-263\tJVASP-30565  JVASP-4534   JVASP-63\n",
            "JVASP-12167\t   JVASP-26381\tJVASP-30569  JVASP-4540   JVASP-66\n",
            "JVASP-12172\t   JVASP-26393\tJVASP-3063   JVASP-4549   JVASP-68933\n",
            "JVASP-12174\t   JVASP-26404\tJVASP-30632  JVASP-4558   JVASP-69\n",
            "JVASP-12177\t   JVASP-26529\tJVASP-30753  JVASP-4570   JVASP-72\n",
            "JVASP-12179\t   JVASP-26626\tJVASP-3078   JVASP-4603   JVASP-75\n",
            "JVASP-12181\t   JVASP-272\tJVASP-308    JVASP-4606   JVASP-7785\n",
            "JVASP-12182\t   JVASP-2733\tJVASP-311    JVASP-4609   JVASP-78\n",
            "JVASP-12183\t   JVASP-275\tJVASP-3159   JVASP-46152  JVASP-7808\n",
            "JVASP-12184\t   JVASP-278\tJVASP-3162   JVASP-4627   JVASP-7819\n",
            "JVASP-12185\t   JVASP-281\tJVASP-317    JVASP-4630   JVASP-7866\n",
            "JVASP-12186\t   JVASP-28347\tJVASP-320    JVASP-4633   JVASP-78893\n",
            "JVASP-12187\t   JVASP-28350\tJVASP-3216   JVASP-4636   JVASP-78964\n",
            "JVASP-122\t   JVASP-28351\tJVASP-323    JVASP-4645   JVASP-8\n",
            "JVASP-1225\t   JVASP-28353\tJVASP-326    JVASP-4657   JVASP-8048\n",
            "JVASP-12274\t   JVASP-28354\tJVASP-32731  JVASP-4660   JVASP-8072\n",
            "JVASP-12459\t   JVASP-28357\tJVASP-329    JVASP-4666   JVASP-8098\n",
            "JVASP-125\t   JVASP-28362\tJVASP-3339   JVASP-47083  JVASP-81\n",
            "JVASP-12502\t   JVASP-28366\tJVASP-335    JVASP-47333  JVASP-8166\n",
            "JVASP-12585\t   JVASP-28373\tJVASP-341    JVASP-4741   JVASP-8174\n",
            "JVASP-1261\t   JVASP-28375\tJVASP-3414   JVASP-48\t  JVASP-8179\n",
            "JVASP-12627\t   JVASP-28381\tJVASP-34273  JVASP-4849   JVASP-82\n",
            "JVASP-128\t   JVASP-28383\tJVASP-34482  JVASP-4852   JVASP-8215\n",
            "JVASP-1285\t   JVASP-28388\tJVASP-3450   JVASP-4855   JVASP-8218\n",
            "JVASP-12888\t   JVASP-28393\tJVASP-34822  JVASP-4858   JVASP-822\n",
            "JVASP-12896\t   JVASP-28397\tJVASP-3510   JVASP-4894   JVASP-8292\n",
            "JVASP-12899\t   JVASP-284\tJVASP-35191  JVASP-4912   JVASP-8304\n",
            "JVASP-12900\t   JVASP-28429\tJVASP-353    JVASP-49755  JVASP-837\n",
            "JVASP-12910\t   JVASP-28431\tJVASP-3534   JVASP-4999   JVASP-8445\n",
            "JVASP-12916\t   JVASP-28433\tJVASP-3537   JVASP-50044  JVASP-8454\n",
            "JVASP-12918\t   JVASP-28437\tJVASP-3543   JVASP-5011   JVASP-8490\n",
            "JVASP-12932\t   JVASP-28438\tJVASP-3552   JVASP-5053   JVASP-85124\n",
            "JVASP-12983\t   JVASP-28440\tJVASP-356    JVASP-5065   JVASP-85235\n",
            "JVASP-13003\t   JVASP-28444\tJVASP-35647  JVASP-5083   JVASP-8579\n",
            "JVASP-13028\t   JVASP-28445\tJVASP-3567   JVASP-50932  JVASP-8582\n",
            "JVASP-13030\t   JVASP-28447\tJVASP-35791  JVASP-51060  JVASP-8584\n",
            "JVASP-13093\t   JVASP-28449\tJVASP-35815  JVASP-51077  JVASP-8587\n",
            "JVASP-13094\t   JVASP-2853\tJVASP-3594   JVASP-51358  JVASP-8607\n",
            "JVASP-13095\t   JVASP-290\tJVASP-35982  JVASP-5146   JVASP-8616\n",
            "JVASP-131\t   JVASP-2901\tJVASP-3600   JVASP-5164   JVASP-8641\n",
            "JVASP-13104\t   JVASP-29262\tJVASP-3615   JVASP-51672  JVASP-8658\n",
            "JVASP-13155\t   JVASP-29263\tJVASP-362    JVASP-51673  JVASP-8667\n",
            "JVASP-137\t   JVASP-2928\tJVASP-3621   JVASP-5173   JVASP-8669\n",
            "JVASP-13742\t   JVASP-29287\tJVASP-3630   JVASP-5176   JVASP-86706\n",
            "JVASP-13745\t   JVASP-29289\tJVASP-3636   JVASP-5188   JVASP-8675\n",
            "JVASP-13785\t   JVASP-29292\tJVASP-365    JVASP-5191   JVASP-8682\n",
            "JVASP-13787\t   JVASP-29304\tJVASP-3654   JVASP-5194   JVASP-8684\n",
            "JVASP-13790\t   JVASP-2931\tJVASP-36561  JVASP-5197   JVASP-8689\n",
            "JVASP-13817\t   JVASP-29322\tJVASP-36715  JVASP-5200   JVASP-86924\n",
            "JVASP-13818\t   JVASP-29323\tJVASP-36723  JVASP-5203   JVASP-8698\n",
            "JVASP-13848\t   JVASP-29325\tJVASP-3675   JVASP-521\t  JVASP-8705\n",
            "JVASP-13855\t   JVASP-29329\tJVASP-36762  JVASP-5215   JVASP-8710\n",
            "JVASP-13856\t   JVASP-29338\tJVASP-36776  JVASP-5218   JVASP-8753\n",
            "JVASP-13886\t   JVASP-29339\tJVASP-36785  JVASP-5224   JVASP-8781\n",
            "JVASP-13896\t   JVASP-29345\tJVASP-368    JVASP-52257  JVASP-8798\n",
            "JVASP-13904\t   JVASP-29369\tJVASP-36829  JVASP-5227   JVASP-895\n",
            "JVASP-13916\t   JVASP-29370\tJVASP-37000  JVASP-5236   JVASP-9080\n",
            "JVASP-13942\t   JVASP-29375\tJVASP-37033  JVASP-52376  JVASP-9093\n",
            "JVASP-13955\t   JVASP-29378\tJVASP-3726   JVASP-5254   JVASP-9181\n",
            "JVASP-13990\t   JVASP-29380\tJVASP-3729   JVASP-5260   JVASP-9375\n",
            "JVASP-140\t   JVASP-29420\tJVASP-3735   JVASP-5269   JVASP-9389\n",
            "JVASP-14011\t   JVASP-29431\tJVASP-3738   JVASP-5281   JVASP-9408\n",
            "JVASP-14047\t   JVASP-29439\tJVASP-3747   JVASP-5290   JVASP-9496\n",
            "JVASP-14101\t   JVASP-29442\tJVASP-3753   JVASP-5308   JVASP-9505\n",
            "JVASP-14144\t   JVASP-29443\tJVASP-3780   JVASP-5311   JVASP-9690\n",
            "JVASP-14161\t   JVASP-29480\tJVASP-3792   JVASP-5335   JVASP-9727\n",
            "JVASP-14163\t   JVASP-29482\tJVASP-38027  JVASP-5338   JVASP-9754\n",
            "JVASP-14166\t   JVASP-29496\tJVASP-38029  JVASP-5344\n"
          ]
        }
      ]
    },
    {
      "cell_type": "code",
      "source": [
        "ls Out/dataset_info.json"
      ],
      "metadata": {
        "colab": {
          "base_uri": "https://localhost:8080/"
        },
        "id": "HbFvaor6VL3f",
        "outputId": "173e0d89-2cb6-4c67-d04d-3639a3f7ea01"
      },
      "execution_count": 16,
      "outputs": [
        {
          "output_type": "stream",
          "name": "stdout",
          "text": [
            "Out/dataset_info.json\n"
          ]
        }
      ]
    },
    {
      "cell_type": "code",
      "source": [
        "from jarvis.db.jsonutils import loadjson\n",
        "dataset_info = loadjson('Out/dataset_info.json')"
      ],
      "metadata": {
        "id": "CXj5f-gnuZoR"
      },
      "execution_count": 17,
      "outputs": []
    },
    {
      "cell_type": "code",
      "source": [
        "dataset_info"
      ],
      "metadata": {
        "colab": {
          "base_uri": "https://localhost:8080/"
        },
        "id": "cCKKqO72uh-O",
        "outputId": "9ca1e65f-d6a5-49a7-c774-9bf727961b10"
      },
      "execution_count": 18,
      "outputs": [
        {
          "output_type": "execute_result",
          "data": {
            "text/plain": [
              "{'benchmark_file': 'AI-SinglePropertyPrediction-exfoliation_energy-dft_3d-test-mae',\n",
              " 'dataset': 'dft_3d',\n",
              " 'output_path': 'Out',\n",
              " 'prop': 'exfoliation_energy',\n",
              " 'methods': 'AI',\n",
              " 'id_tag': 'jid',\n",
              " 'n_train': 650,\n",
              " 'n_val': 81,\n",
              " 'n_test': 81}"
            ]
          },
          "metadata": {},
          "execution_count": 18
        }
      ]
    },
    {
      "cell_type": "code",
      "source": [
        "n_train = dataset_info['n_train']\n",
        "n_val = dataset_info['n_val']\n",
        "n_test = dataset_info['n_test']"
      ],
      "metadata": {
        "id": "1zi01V7fulNZ"
      },
      "execution_count": 19,
      "outputs": []
    },
    {
      "cell_type": "markdown",
      "source": [
        "Download an example config file."
      ],
      "metadata": {
        "id": "9nAf1XE9-LvM"
      }
    },
    {
      "cell_type": "code",
      "source": [
        "!wget https://raw.githubusercontent.com/usnistgov/alignn/main/alignn/examples/sample_data/config_example.json"
      ],
      "metadata": {
        "id": "OeRn4mZ99ye1",
        "outputId": "726b396d-5022-4d16-c631-525e50913420",
        "colab": {
          "base_uri": "https://localhost:8080/"
        }
      },
      "execution_count": 20,
      "outputs": [
        {
          "output_type": "stream",
          "name": "stdout",
          "text": [
            "--2025-09-22 22:08:09--  https://raw.githubusercontent.com/usnistgov/alignn/main/alignn/examples/sample_data/config_example.json\n",
            "Resolving raw.githubusercontent.com (raw.githubusercontent.com)... 185.199.108.133, 185.199.109.133, 185.199.110.133, ...\n",
            "Connecting to raw.githubusercontent.com (raw.githubusercontent.com)|185.199.108.133|:443... connected.\n",
            "HTTP request sent, awaiting response... 200 OK\n",
            "Length: 2357 (2.3K) [text/plain]\n",
            "Saving to: ‘config_example.json’\n",
            "\n",
            "\rconfig_example.json   0%[                    ]       0  --.-KB/s               \rconfig_example.json 100%[===================>]   2.30K  --.-KB/s    in 0s      \n",
            "\n",
            "2025-09-22 22:08:09 (37.9 MB/s) - ‘config_example.json’ saved [2357/2357]\n",
            "\n"
          ]
        }
      ]
    },
    {
      "cell_type": "code",
      "source": [
        "from jarvis.db.jsonutils import loadjson\n",
        "config = loadjson('config_example.json')"
      ],
      "metadata": {
        "id": "TN5z6jwN-Rjw"
      },
      "execution_count": 21,
      "outputs": []
    },
    {
      "cell_type": "code",
      "source": [
        "config"
      ],
      "metadata": {
        "id": "3tbnnbG_-RhO",
        "outputId": "ee8050e0-28a6-41c0-be6b-2d16442e6ef1",
        "colab": {
          "base_uri": "https://localhost:8080/"
        }
      },
      "execution_count": 22,
      "outputs": [
        {
          "output_type": "execute_result",
          "data": {
            "text/plain": [
              "{'version': '112bbedebdaecf59fb18e11c929080fb2f358246',\n",
              " 'dataset': 'user_data',\n",
              " 'target': 'target',\n",
              " 'atom_features': 'cgcnn',\n",
              " 'neighbor_strategy': 'k-nearest',\n",
              " 'id_tag': 'jid',\n",
              " 'dtype': 'float32',\n",
              " 'random_seed': 123,\n",
              " 'classification_threshold': None,\n",
              " 'n_val': None,\n",
              " 'n_test': None,\n",
              " 'n_train': None,\n",
              " 'train_ratio': 0.8,\n",
              " 'val_ratio': 0.1,\n",
              " 'test_ratio': 0.1,\n",
              " 'target_multiplication_factor': None,\n",
              " 'epochs': 3,\n",
              " 'batch_size': 2,\n",
              " 'weight_decay': 1e-05,\n",
              " 'learning_rate': 0.001,\n",
              " 'filename': 'A',\n",
              " 'warmup_steps': 2000,\n",
              " 'criterion': 'mse',\n",
              " 'optimizer': 'adamw',\n",
              " 'scheduler': 'onecycle',\n",
              " 'pin_memory': False,\n",
              " 'save_dataloader': False,\n",
              " 'write_checkpoint': True,\n",
              " 'write_predictions': True,\n",
              " 'store_outputs': True,\n",
              " 'progress': True,\n",
              " 'log_tensorboard': False,\n",
              " 'standard_scalar_and_pca': False,\n",
              " 'use_canonize': True,\n",
              " 'num_workers': 0,\n",
              " 'cutoff': 8.0,\n",
              " 'cutoff_extra': 3.0,\n",
              " 'max_neighbors': 12,\n",
              " 'keep_data_order': True,\n",
              " 'normalize_graph_level_loss': False,\n",
              " 'distributed': False,\n",
              " 'data_parallel': False,\n",
              " 'n_early_stopping': None,\n",
              " 'output_dir': 'temp',\n",
              " 'use_lmdb': True,\n",
              " 'model': {'name': 'alignn_atomwise',\n",
              "  'alignn_layers': 4,\n",
              "  'gcn_layers': 4,\n",
              "  'atom_input_features': 92,\n",
              "  'edge_input_features': 80,\n",
              "  'triplet_input_features': 40,\n",
              "  'embedding_features': 64,\n",
              "  'hidden_features': 256,\n",
              "  'output_features': 1,\n",
              "  'grad_multiplier': -1,\n",
              "  'calculate_gradient': False,\n",
              "  'atomwise_output_features': 0,\n",
              "  'graphwise_weight': 1.0,\n",
              "  'gradwise_weight': 1.0,\n",
              "  'stresswise_weight': 0.0,\n",
              "  'atomwise_weight': 0.0,\n",
              "  'link': 'identity',\n",
              "  'zero_inflated': False,\n",
              "  'classification': False,\n",
              "  'force_mult_natoms': False,\n",
              "  'energy_mult_natoms': False,\n",
              "  'include_pos_deriv': False,\n",
              "  'use_cutoff_function': False,\n",
              "  'inner_cutoff': 3.0,\n",
              "  'stress_multiplier': 1.0,\n",
              "  'add_reverse_forces': True,\n",
              "  'lg_on_fly': True,\n",
              "  'batch_stress': True,\n",
              "  'multiply_cutoff': False,\n",
              "  'use_penalty': True,\n",
              "  'extra_features': 0,\n",
              "  'exponent': 5,\n",
              "  'penalty_factor': 0.1,\n",
              "  'penalty_threshold': 1.0}}"
            ]
          },
          "metadata": {},
          "execution_count": 22
        }
      ]
    },
    {
      "cell_type": "code",
      "source": [
        "config['n_train'] = n_train\n",
        "config['n_val'] = n_val\n",
        "config['n_test'] = n_test\n",
        "config['epochs'] = 20 #Increase more if necessary\n",
        "config['batch_size'] = 10 #Increase more if necessary\n",
        "\n",
        "# Feel free to change epochs/lr/hyperparameters etc.\n",
        "# and see its effect on performance, e.g.\n",
        "# config['model']['alignn_layers'] = 2"
      ],
      "metadata": {
        "id": "Xu_R8UIs-Reo"
      },
      "execution_count": 23,
      "outputs": []
    },
    {
      "cell_type": "code",
      "source": [
        "from jarvis.db.jsonutils import dumpjson\n",
        "dumpjson(data=config,filename='tmp_config.json')"
      ],
      "metadata": {
        "id": "F8WtYauM-RcM"
      },
      "execution_count": 24,
      "outputs": []
    },
    {
      "cell_type": "code",
      "source": [
        "%%time\n",
        "!rm -rf *data temp\n",
        "!train_alignn.py --root_dir \"Out\" --config \"tmp_config.json\" --output_dir=\"temp\""
      ],
      "metadata": {
        "id": "itTeN3pv-RZb",
        "outputId": "18ff83b8-d966-432f-b87a-9d454fcd9e26",
        "colab": {
          "base_uri": "https://localhost:8080/"
        }
      },
      "execution_count": 25,
      "outputs": [
        {
          "output_type": "stream",
          "name": "stdout",
          "text": [
            "world_size 1\n",
            "root_dir Out\n",
            "id_prop_csv_file exists True\n",
            "len dataset 812\n",
            "train_stress False\n",
            "Using LMDB dataset.\n",
            "MAX val: 948.93\n",
            "MIN val: 0.03\n",
            "MAD: 62.662647995583484\n",
            "Baseline MAE: 61.033631528964854\n",
            "data range 948.93 0.03\n",
            "line_graph True\n",
            "100% 650/650 [00:13<00:00, 46.44it/s]\n",
            "data range 388.51 18.3\n",
            "line_graph True\n",
            "100% 81/81 [00:01<00:00, 51.92it/s]\n",
            "data range 903.94 0.95\n",
            "line_graph True\n",
            "100% 81/81 [00:01<00:00, 50.19it/s]\n",
            "n_train: 650\n",
            "n_val  : 81\n",
            "n_test : 81\n",
            "rank 0\n",
            "world_size 1\n",
            "config: {'version': '112bbedebdaecf59fb18e11c929080fb2f358246', 'dataset': 'user_data', 'target': 'target', 'atom_features': 'cgcnn', 'neighbor_strategy': 'k-nearest', 'id_tag': 'jid', 'dtype': 'float32', 'random_seed': 123, 'classification_threshold': None, 'n_val': 81, 'n_test': 81, 'n_train': 650, 'train_ratio': 0.8, 'val_ratio': 0.1, 'test_ratio': 0.1, 'target_multiplication_factor': None, 'epochs': 20, 'batch_size': 10, 'weight_decay': 1e-05, 'learning_rate': 0.001, 'filename': 'A', 'warmup_steps': 2000, 'criterion': 'mse', 'optimizer': 'adamw', 'scheduler': 'onecycle', 'pin_memory': False, 'save_dataloader': False, 'write_checkpoint': True, 'write_predictions': True, 'store_outputs': True, 'progress': True, 'log_tensorboard': False, 'standard_scalar_and_pca': False, 'use_canonize': True, 'compute_line_graph': True, 'num_workers': 0, 'cutoff': 8.0, 'cutoff_extra': 3.0, 'max_neighbors': 12, 'keep_data_order': True, 'normalize_graph_level_loss': False, 'distributed': False, 'data_parallel': False, 'n_early_stopping': None, 'output_dir': 'temp', 'use_lmdb': True, 'model': {'name': 'alignn_atomwise', 'alignn_layers': 4, 'gcn_layers': 4, 'atom_input_features': 92, 'edge_input_features': 80, 'triplet_input_features': 40, 'embedding_features': 64, 'hidden_features': 256, 'output_features': 1, 'grad_multiplier': -1, 'calculate_gradient': False, 'atomwise_output_features': 0, 'graphwise_weight': 1.0, 'gradwise_weight': 1.0, 'stresswise_weight': 0.0, 'atomwise_weight': 0.0, 'link': 'identity', 'zero_inflated': False, 'classification': False, 'force_mult_natoms': False, 'energy_mult_natoms': False, 'include_pos_deriv': False, 'use_cutoff_function': False, 'inner_cutoff': 3.0, 'stress_multiplier': 1.0, 'add_reverse_forces': True, 'lg_on_fly': True, 'batch_stress': True, 'multiply_cutoff': False, 'use_penalty': True, 'extra_features': 0, 'exponent': 5, 'penalty_factor': 0.1, 'penalty_threshold': 1.0, 'additional_output_features': 0, 'additional_output_weight': 0.0}}\n",
            "{'atom_features': 'cgcnn',\n",
            " 'batch_size': 10,\n",
            " 'classification_threshold': None,\n",
            " 'compute_line_graph': True,\n",
            " 'criterion': 'mse',\n",
            " 'cutoff': 8.0,\n",
            " 'cutoff_extra': 3.0,\n",
            " 'data_parallel': False,\n",
            " 'dataset': 'user_data',\n",
            " 'distributed': False,\n",
            " 'dtype': 'float32',\n",
            " 'epochs': 20,\n",
            " 'filename': 'A',\n",
            " 'id_tag': 'jid',\n",
            " 'keep_data_order': True,\n",
            " 'learning_rate': 0.001,\n",
            " 'log_tensorboard': False,\n",
            " 'max_neighbors': 12,\n",
            " 'model': {'add_reverse_forces': True,\n",
            "           'additional_output_features': 0,\n",
            "           'additional_output_weight': 0.0,\n",
            "           'alignn_layers': 4,\n",
            "           'atom_input_features': 92,\n",
            "           'atomwise_output_features': 0,\n",
            "           'atomwise_weight': 0.0,\n",
            "           'batch_stress': True,\n",
            "           'calculate_gradient': False,\n",
            "           'classification': False,\n",
            "           'edge_input_features': 80,\n",
            "           'embedding_features': 64,\n",
            "           'energy_mult_natoms': False,\n",
            "           'exponent': 5,\n",
            "           'extra_features': 0,\n",
            "           'force_mult_natoms': False,\n",
            "           'gcn_layers': 4,\n",
            "           'grad_multiplier': -1,\n",
            "           'gradwise_weight': 1.0,\n",
            "           'graphwise_weight': 1.0,\n",
            "           'hidden_features': 256,\n",
            "           'include_pos_deriv': False,\n",
            "           'inner_cutoff': 3.0,\n",
            "           'lg_on_fly': True,\n",
            "           'link': 'identity',\n",
            "           'multiply_cutoff': False,\n",
            "           'name': 'alignn_atomwise',\n",
            "           'output_features': 1,\n",
            "           'penalty_factor': 0.1,\n",
            "           'penalty_threshold': 1.0,\n",
            "           'stress_multiplier': 1.0,\n",
            "           'stresswise_weight': 0.0,\n",
            "           'triplet_input_features': 40,\n",
            "           'use_cutoff_function': False,\n",
            "           'use_penalty': True,\n",
            "           'zero_inflated': False},\n",
            " 'n_early_stopping': None,\n",
            " 'n_test': 81,\n",
            " 'n_train': 650,\n",
            " 'n_val': 81,\n",
            " 'neighbor_strategy': 'k-nearest',\n",
            " 'normalize_graph_level_loss': False,\n",
            " 'num_workers': 0,\n",
            " 'optimizer': 'adamw',\n",
            " 'output_dir': 'temp',\n",
            " 'pin_memory': False,\n",
            " 'progress': True,\n",
            " 'random_seed': 123,\n",
            " 'save_dataloader': False,\n",
            " 'scheduler': 'onecycle',\n",
            " 'standard_scalar_and_pca': False,\n",
            " 'store_outputs': True,\n",
            " 'target': 'target',\n",
            " 'target_multiplication_factor': None,\n",
            " 'test_ratio': 0.1,\n",
            " 'train_ratio': 0.8,\n",
            " 'use_canonize': True,\n",
            " 'use_lmdb': True,\n",
            " 'val_ratio': 0.1,\n",
            " 'version': '112bbedebdaecf59fb18e11c929080fb2f358246',\n",
            " 'warmup_steps': 2000,\n",
            " 'weight_decay': 1e-05,\n",
            " 'write_checkpoint': True,\n",
            " 'write_predictions': True}\n",
            "\n",
            "    _    _     ___ ____ _   _ _   _\n",
            "   / \\  | |   |_ _/ ___| \\ | | \\ | |\n",
            "  / _ \\ | |    | | |  _|  \\| |  \\| |\n",
            " / ___ \\| |___ | | |_| | |\\  | |\\  |\n",
            "/_/   \\_\\_____|___\\____|_| \\_|_| \\_|\n",
            "\n",
            "Model parameters 4026753\n",
            "CUDA available True\n",
            "CUDA device count 1\n",
            "   GPU: Tesla T4. Max memory: 14.741 GB. Platform = Linux.\n",
            "   Pytorch: 2.2.1+cu121. CUDA = 7.5. CUDA Toolkit = 12.1.\n",
            "\n",
            "/usr/local/lib/python3.12/dist-packages/torch/optim/lr_scheduler.py:143: UserWarning: Detected call of `lr_scheduler.step()` before `optimizer.step()`. In PyTorch 1.1.0 and later, you should call them in the opposite order: `optimizer.step()` before `lr_scheduler.step()`.  Failure to do this will result in PyTorch skipping the first value of the learning rate schedule. See more details at https://pytorch.org/docs/stable/optim.html#how-to-adjust-learning-rate\n",
            "  warnings.warn(\"Detected call of `lr_scheduler.step()` before `optimizer.step()`. \"\n",
            "Train Loss:  Epoch    Total      Graph      Atom       Grad       Stress     Addn.      Time      \n",
            "             0        4008.6187  4008.6187  0.0000     0.0000     0.0000     0.0000     7.06      \n",
            "Val Loss:    Epoch    Total      Graph      Atom       Grad       Stress     Addn.      Time      \n",
            "             0        321.9371   321.9371   0.0000     0.0000     0.0000     0.0000     0.44       Saving model\n",
            "Train Loss:  Epoch    Total      Graph      Atom       Grad       Stress     Addn.      Time      \n",
            "             1        3513.6679  3513.6679  0.0000     0.0000     0.0000     0.0000     7.09      \n",
            "Val Loss:    Epoch    Total      Graph      Atom       Grad       Stress     Addn.      Time      \n",
            "             1        321.3477   321.3477   0.0000     0.0000     0.0000     0.0000     0.45       Saving model\n",
            "Train Loss:  Epoch    Total      Graph      Atom       Grad       Stress     Addn.      Time      \n",
            "             2        3349.3501  3349.3501  0.0000     0.0000     0.0000     0.0000     6.29      \n",
            "Val Loss:    Epoch    Total      Graph      Atom       Grad       Stress     Addn.      Time      \n",
            "             2        323.1069   323.1069   0.0000     0.0000     0.0000     0.0000     0.41                 \n",
            "Train Loss:  Epoch    Total      Graph      Atom       Grad       Stress     Addn.      Time      \n",
            "             3        3263.9723  3263.9723  0.0000     0.0000     0.0000     0.0000     7.26      \n",
            "Val Loss:    Epoch    Total      Graph      Atom       Grad       Stress     Addn.      Time      \n",
            "             3        320.8819   320.8819   0.0000     0.0000     0.0000     0.0000     0.43       Saving model\n",
            "Train Loss:  Epoch    Total      Graph      Atom       Grad       Stress     Addn.      Time      \n",
            "             4        3218.5546  3218.5546  0.0000     0.0000     0.0000     0.0000     7.39      \n",
            "Val Loss:    Epoch    Total      Graph      Atom       Grad       Stress     Addn.      Time      \n",
            "             4        318.6964   318.6964   0.0000     0.0000     0.0000     0.0000     0.61       Saving model\n",
            "Train Loss:  Epoch    Total      Graph      Atom       Grad       Stress     Addn.      Time      \n",
            "             5        3158.8868  3158.8868  0.0000     0.0000     0.0000     0.0000     6.59      \n",
            "Val Loss:    Epoch    Total      Graph      Atom       Grad       Stress     Addn.      Time      \n",
            "             5        333.4410   333.4410   0.0000     0.0000     0.0000     0.0000     0.41                 \n",
            "Train Loss:  Epoch    Total      Graph      Atom       Grad       Stress     Addn.      Time      \n",
            "             6        3111.7336  3111.7336  0.0000     0.0000     0.0000     0.0000     7.09      \n",
            "Val Loss:    Epoch    Total      Graph      Atom       Grad       Stress     Addn.      Time      \n",
            "             6        325.2080   325.2080   0.0000     0.0000     0.0000     0.0000     0.43                 \n",
            "Train Loss:  Epoch    Total      Graph      Atom       Grad       Stress     Addn.      Time      \n",
            "             7        3027.7885  3027.7885  0.0000     0.0000     0.0000     0.0000     6.51      \n",
            "Val Loss:    Epoch    Total      Graph      Atom       Grad       Stress     Addn.      Time      \n",
            "             7        314.5513   314.5513   0.0000     0.0000     0.0000     0.0000     0.49       Saving model\n",
            "Train Loss:  Epoch    Total      Graph      Atom       Grad       Stress     Addn.      Time      \n",
            "             8        2936.3677  2936.3677  0.0000     0.0000     0.0000     0.0000     6.92      \n",
            "Val Loss:    Epoch    Total      Graph      Atom       Grad       Stress     Addn.      Time      \n",
            "             8        319.7940   319.7940   0.0000     0.0000     0.0000     0.0000     0.44                 \n",
            "Train Loss:  Epoch    Total      Graph      Atom       Grad       Stress     Addn.      Time      \n",
            "             9        2886.9437  2886.9437  0.0000     0.0000     0.0000     0.0000     7.22      \n",
            "Val Loss:    Epoch    Total      Graph      Atom       Grad       Stress     Addn.      Time      \n",
            "             9        315.4592   315.4592   0.0000     0.0000     0.0000     0.0000     0.43                 \n",
            "Train Loss:  Epoch    Total      Graph      Atom       Grad       Stress     Addn.      Time      \n",
            "             10       2812.4856  2812.4856  0.0000     0.0000     0.0000     0.0000     6.52      \n",
            "Val Loss:    Epoch    Total      Graph      Atom       Grad       Stress     Addn.      Time      \n",
            "             10       323.5808   323.5808   0.0000     0.0000     0.0000     0.0000     0.43                 \n",
            "Train Loss:  Epoch    Total      Graph      Atom       Grad       Stress     Addn.      Time      \n",
            "             11       2759.8865  2759.8865  0.0000     0.0000     0.0000     0.0000     7.52      \n",
            "Val Loss:    Epoch    Total      Graph      Atom       Grad       Stress     Addn.      Time      \n",
            "             11       304.8317   304.8317   0.0000     0.0000     0.0000     0.0000     0.42       Saving model\n",
            "Train Loss:  Epoch    Total      Graph      Atom       Grad       Stress     Addn.      Time      \n",
            "             12       2660.4185  2660.4185  0.0000     0.0000     0.0000     0.0000     6.83      \n",
            "Val Loss:    Epoch    Total      Graph      Atom       Grad       Stress     Addn.      Time      \n",
            "             12       309.3587   309.3587   0.0000     0.0000     0.0000     0.0000     0.64                 \n",
            "Train Loss:  Epoch    Total      Graph      Atom       Grad       Stress     Addn.      Time      \n",
            "             13       2591.1193  2591.1193  0.0000     0.0000     0.0000     0.0000     6.73      \n",
            "Val Loss:    Epoch    Total      Graph      Atom       Grad       Stress     Addn.      Time      \n",
            "             13       305.6489   305.6489   0.0000     0.0000     0.0000     0.0000     0.44                 \n",
            "Train Loss:  Epoch    Total      Graph      Atom       Grad       Stress     Addn.      Time      \n",
            "             14       2509.7874  2509.7874  0.0000     0.0000     0.0000     0.0000     7.52      \n",
            "Val Loss:    Epoch    Total      Graph      Atom       Grad       Stress     Addn.      Time      \n",
            "             14       309.8821   309.8821   0.0000     0.0000     0.0000     0.0000     0.43                 \n",
            "Train Loss:  Epoch    Total      Graph      Atom       Grad       Stress     Addn.      Time      \n",
            "             15       2450.1201  2450.1201  0.0000     0.0000     0.0000     0.0000     6.57      \n",
            "Val Loss:    Epoch    Total      Graph      Atom       Grad       Stress     Addn.      Time      \n",
            "             15       298.2796   298.2796   0.0000     0.0000     0.0000     0.0000     0.43       Saving model\n",
            "Train Loss:  Epoch    Total      Graph      Atom       Grad       Stress     Addn.      Time      \n",
            "             16       2387.2149  2387.2149  0.0000     0.0000     0.0000     0.0000     7.28      \n",
            "Val Loss:    Epoch    Total      Graph      Atom       Grad       Stress     Addn.      Time      \n",
            "             16       288.1761   288.1761   0.0000     0.0000     0.0000     0.0000     0.44       Saving model\n",
            "Train Loss:  Epoch    Total      Graph      Atom       Grad       Stress     Addn.      Time      \n",
            "             17       2269.6167  2269.6167  0.0000     0.0000     0.0000     0.0000     7.36      \n",
            "Val Loss:    Epoch    Total      Graph      Atom       Grad       Stress     Addn.      Time      \n",
            "             17       281.4373   281.4373   0.0000     0.0000     0.0000     0.0000     0.44       Saving model\n",
            "Train Loss:  Epoch    Total      Graph      Atom       Grad       Stress     Addn.      Time      \n",
            "             18       2129.6082  2129.6082  0.0000     0.0000     0.0000     0.0000     6.76      \n",
            "Val Loss:    Epoch    Total      Graph      Atom       Grad       Stress     Addn.      Time      \n",
            "             18       292.3221   292.3221   0.0000     0.0000     0.0000     0.0000     0.43                 \n",
            "Train Loss:  Epoch    Total      Graph      Atom       Grad       Stress     Addn.      Time      \n",
            "             19       2103.6221  2103.6221  0.0000     0.0000     0.0000     0.0000     7.34      \n",
            "Val Loss:    Epoch    Total      Graph      Atom       Grad       Stress     Addn.      Time      \n",
            "             19       289.4091   289.4091   0.0000     0.0000     0.0000     0.0000     0.45                 \n",
            "/usr/local/lib/python3.12/dist-packages/torch/nn/modules/loss.py:101: UserWarning: Using a target size (torch.Size([1])) that is different to the input size (torch.Size([])). This will likely lead to incorrect results due to broadcasting. Please ensure they have the same size.\n",
            "  return F.l1_loss(input, target, reduction=self.reduction)\n",
            "TestLoss 19 3787.4428386688232\n",
            "Closing LMDB.\n",
            "Time taken (s) 156.014750957489\n",
            "CPU times: user 399 ms, sys: 60.4 ms, total: 459 ms\n",
            "Wall time: 2min 58s\n"
          ]
        }
      ]
    },
    {
      "cell_type": "markdown",
      "source": [
        "Keep a note on the environment"
      ],
      "metadata": {
        "id": "72axK6rWSMC4"
      }
    },
    {
      "cell_type": "code",
      "source": [
        "!conda env export"
      ],
      "metadata": {
        "id": "c0kka3HjSF7C",
        "outputId": "0faefb99-256a-4695-fec8-a0eefd45924b",
        "colab": {
          "base_uri": "https://localhost:8080/"
        }
      },
      "execution_count": 26,
      "outputs": [
        {
          "output_type": "stream",
          "name": "stdout",
          "text": [
            "/bin/bash: line 1: conda: command not found\n"
          ]
        }
      ]
    },
    {
      "cell_type": "markdown",
      "source": [
        "Plot performance on test set"
      ],
      "metadata": {
        "id": "ydw_grIynDaf"
      }
    },
    {
      "cell_type": "code",
      "source": [
        "from jarvis.db.jsonutils import loadjson\n",
        "import pandas as pd\n",
        "d=loadjson('temp/Test_results.json')\n",
        "x=[i['target_out'][0] for i in d]\n",
        "y=[i['pred_out'] for i in d]\n",
        "ids=[i['id'] for i in d]"
      ],
      "metadata": {
        "id": "00gQ91VgvSCc"
      },
      "execution_count": 27,
      "outputs": []
    },
    {
      "cell_type": "code",
      "source": [
        "# Create a DataFrame\n",
        "data = {'id': ids, 'target': x, 'prediction': y}\n",
        "df = pd.DataFrame(data)\n",
        "\n",
        "# Save the DataFrame as a CSV file\n",
        "csv_file = 'temp/prediction_results_test_set.csv'\n",
        "df.to_csv(csv_file, index=False)"
      ],
      "metadata": {
        "id": "1ZTh39TQv0Ds"
      },
      "execution_count": 28,
      "outputs": []
    },
    {
      "cell_type": "code",
      "source": [
        "import matplotlib.pyplot as plt\n",
        "plt.plot(x,y,'.')\n",
        "plt.plot(x,x)\n",
        "plt.xlabel('DFT')\n",
        "plt.ylabel('ALIGNN')\n",
        "\n",
        "from sklearn.metrics import mean_absolute_error\n",
        "print('MAE',mean_absolute_error(x,y))"
      ],
      "metadata": {
        "id": "YZJGL2Xuvcrz",
        "outputId": "71e838a6-1f88-4d34-81a8-48afac0adf13",
        "colab": {
          "base_uri": "https://localhost:8080/",
          "height": 467
        }
      },
      "execution_count": 29,
      "outputs": [
        {
          "output_type": "stream",
          "name": "stdout",
          "text": [
            "MAE 46.75855312597604\n"
          ]
        },
        {
          "output_type": "display_data",
          "data": {
            "text/plain": [
              "<Figure size 640x480 with 1 Axes>"
            ],
            "image/png": "[encoded data removed]"
          },
          "metadata": {}
        }
      ]
    },
    {
      "cell_type": "code",
      "source": [
        "%matplotlib inline\n",
        "import matplotlib.pyplot as plt\n",
        "import pandas as pd\n",
        "# temp was the output directory we specified\n",
        "df = pd.read_csv('temp/prediction_results_test_set.csv')"
      ],
      "metadata": {
        "id": "NaTjeK33nDGh"
      },
      "execution_count": 30,
      "outputs": []
    },
    {
      "cell_type": "code",
      "source": [
        "df"
      ],
      "metadata": {
        "id": "CyWT9NHZnMqi",
        "outputId": "2982a6db-a99a-4413-a90a-87af685650e0",
        "colab": {
          "base_uri": "https://localhost:8080/",
          "height": 424
        }
      },
      "execution_count": 31,
      "outputs": [
        {
          "output_type": "execute_result",
          "data": {
            "text/plain": [
              "             id      target  prediction\n",
              "0   JVASP-12918   27.170000  188.965302\n",
              "1    JVASP-2035   82.290001   85.902649\n",
              "2   JVASP-13942   87.809998   96.292824\n",
              "3     JVASP-278  144.320007  192.184372\n",
              "4   JVASP-10173   33.700001   85.943314\n",
              "..          ...         ...         ...\n",
              "76   JVASP-4364   54.290001  104.857880\n",
              "77  JVASP-29480   78.639999   79.149300\n",
              "78  JVASP-28375   55.480000   56.782158\n",
              "79    JVASP-590   88.519997   97.619423\n",
              "80   JVASP-4741  226.220001  193.709076\n",
              "\n",
              "[81 rows x 3 columns]"
            ],
            "text/html": [
              "\n",
              "  <div id=\"df-5bdbec02-c5e4-4867-800f-ed694d6ba998\" class=\"colab-df-container\">\n",
              "    <div>\n",
              "<style scoped>\n",
              "    .dataframe tbody tr th:only-of-type {\n",
              "        vertical-align: middle;\n",
              "    }\n",
              "\n",
              "    .dataframe tbody tr th {\n",
              "        vertical-align: top;\n",
              "    }\n",
              "\n",
              "    .dataframe thead th {\n",
              "        text-align: right;\n",
              "    }\n",
              "</style>\n",
              "<table border=\"1\" class=\"dataframe\">\n",
              "  <thead>\n",
              "    <tr style=\"text-align: right;\">\n",
              "      <th></th>\n",
              "      <th>id</th>\n",
              "      <th>target</th>\n",
              "      <th>prediction</th>\n",
              "    </tr>\n",
              "  </thead>\n",
              "  <tbody>\n",
              "    <tr>\n",
              "      <th>0</th>\n",
              "      <td>JVASP-12918</td>\n",
              "      <td>27.170000</td>\n",
              "      <td>188.965302</td>\n",
              "    </tr>\n",
              "    <tr>\n",
              "      <th>1</th>\n",
              "      <td>JVASP-2035</td>\n",
              "      <td>82.290001</td>\n",
              "      <td>85.902649</td>\n",
              "    </tr>\n",
              "    <tr>\n",
              "      <th>2</th>\n",
              "      <td>JVASP-13942</td>\n",
              "      <td>87.809998</td>\n",
              "      <td>96.292824</td>\n",
              "    </tr>\n",
              "    <tr>\n",
              "      <th>3</th>\n",
              "      <td>JVASP-278</td>\n",
              "      <td>144.320007</td>\n",
              "      <td>192.184372</td>\n",
              "    </tr>\n",
              "    <tr>\n",
              "      <th>4</th>\n",
              "      <td>JVASP-10173</td>\n",
              "      <td>33.700001</td>\n",
              "      <td>85.943314</td>\n",
              "    </tr>\n",
              "    <tr>\n",
              "      <th>...</th>\n",
              "      <td>...</td>\n",
              "      <td>...</td>\n",
              "      <td>...</td>\n",
              "    </tr>\n",
              "    <tr>\n",
              "      <th>76</th>\n",
              "      <td>JVASP-4364</td>\n",
              "      <td>54.290001</td>\n",
              "      <td>104.857880</td>\n",
              "    </tr>\n",
              "    <tr>\n",
              "      <th>77</th>\n",
              "      <td>JVASP-29480</td>\n",
              "      <td>78.639999</td>\n",
              "      <td>79.149300</td>\n",
              "    </tr>\n",
              "    <tr>\n",
              "      <th>78</th>\n",
              "      <td>JVASP-28375</td>\n",
              "      <td>55.480000</td>\n",
              "      <td>56.782158</td>\n",
              "    </tr>\n",
              "    <tr>\n",
              "      <th>79</th>\n",
              "      <td>JVASP-590</td>\n",
              "      <td>88.519997</td>\n",
              "      <td>97.619423</td>\n",
              "    </tr>\n",
              "    <tr>\n",
              "      <th>80</th>\n",
              "      <td>JVASP-4741</td>\n",
              "      <td>226.220001</td>\n",
              "      <td>193.709076</td>\n",
              "    </tr>\n",
              "  </tbody>\n",
              "</table>\n",
              "<p>81 rows × 3 columns</p>\n",
              "</div>\n",
              "    <div class=\"colab-df-buttons\">\n",
              "\n",
              "  <div class=\"colab-df-container\">\n",
              "    <button class=\"colab-df-convert\" onclick=\"convertToInteractive('df-5bdbec02-c5e4-4867-800f-ed694d6ba998')\"\n",
              "            title=\"Convert this dataframe to an interactive table.\"\n",
              "            style=\"display:none;\">\n",
              "\n",
              "  <svg xmlns=\"http://www.w3.org/2000/svg\" height=\"24px\" viewBox=\"0 -960 960 960\">\n",
              "    <path d=\"M120-120v-720h720v720H120Zm60-500h600v-160H180v160Zm220 220h160v-160H400v160Zm0 220h160v-160H400v160ZM180-400h160v-160H180v160Zm440 0h160v-160H620v160ZM180-180h160v-160H180v160Zm440 0h160v-160H620v160Z\"/>\n",
              "  </svg>\n",
              "    </button>\n",
              "\n",
              "  <style>\n",
              "    .colab-df-container {\n",
              "      display:flex;\n",
              "      gap: 12px;\n",
              "    }\n",
              "\n",
              "    .colab-df-convert {\n",
              "      background-color: #E8F0FE;\n",
              "      border: none;\n",
              "      border-radius: 50%;\n",
              "      cursor: pointer;\n",
              "      display: none;\n",
              "      fill: #1967D2;\n",
              "      height: 32px;\n",
              "      padding: 0 0 0 0;\n",
              "      width: 32px;\n",
              "    }\n",
              "\n",
              "    .colab-df-convert:hover {\n",
              "      background-color: #E2EBFA;\n",
              "      box-shadow: 0px 1px 2px rgba(60, 64, 67, 0.3), 0px 1px 3px 1px rgba(60, 64, 67, 0.15);\n",
              "      fill: #174EA6;\n",
              "    }\n",
              "\n",
              "    .colab-df-buttons div {\n",
              "      margin-bottom: 4px;\n",
              "    }\n",
              "\n",
              "    [theme=dark] .colab-df-convert {\n",
              "      background-color: #3B4455;\n",
              "      fill: #D2E3FC;\n",
              "    }\n",
              "\n",
              "    [theme=dark] .colab-df-convert:hover {\n",
              "      background-color: #434B5C;\n",
              "      box-shadow: 0px 1px 3px 1px rgba(0, 0, 0, 0.15);\n",
              "      filter: drop-shadow(0px 1px 2px rgba(0, 0, 0, 0.3));\n",
              "      fill: #FFFFFF;\n",
              "    }\n",
              "  </style>\n",
              "\n",
              "    <script>\n",
              "      const buttonEl =\n",
              "        document.querySelector('#df-5bdbec02-c5e4-4867-800f-ed694d6ba998 button.colab-df-convert');\n",
              "      buttonEl.style.display =\n",
              "        google.colab.kernel.accessAllowed ? 'block' : 'none';\n",
              "\n",
              "      async function convertToInteractive(key) {\n",
              "        const element = document.querySelector('#df-5bdbec02-c5e4-4867-800f-ed694d6ba998');\n",
              "        const dataTable =\n",
              "          await google.colab.kernel.invokeFunction('convertToInteractive',\n",
              "                                                    [key], {});\n",
              "        if (!dataTable) return;\n",
              "\n",
              "        const docLinkHtml = 'Like what you see? Visit the ' +\n",
              "          '<a target=\"_blank\" href=https://colab.research.google.com/notebooks/data_table.ipynb>data table notebook</a>'\n",
              "          + ' to learn more about interactive tables.';\n",
              "        element.innerHTML = '';\n",
              "        dataTable['output_type'] = 'display_data';\n",
              "        await google.colab.output.renderOutput(dataTable, element);\n",
              "        const docLink = document.createElement('div');\n",
              "        docLink.innerHTML = docLinkHtml;\n",
              "        element.appendChild(docLink);\n",
              "      }\n",
              "    </script>\n",
              "  </div>\n",
              "\n",
              "\n",
              "    <div id=\"df-117c8501-8223-4ef2-9b0a-84b35fbce21a\">\n",
              "      <button class=\"colab-df-quickchart\" onclick=\"quickchart('df-117c8501-8223-4ef2-9b0a-84b35fbce21a')\"\n",
              "                title=\"Suggest charts\"\n",
              "                style=\"display:none;\">\n",
              "\n",
              "<svg xmlns=\"http://www.w3.org/2000/svg\" height=\"24px\"viewBox=\"0 0 24 24\"\n",
              "     width=\"24px\">\n",
              "    <g>\n",
              "        <path d=\"M19 3H5c-1.1 0-2 .9-2 2v14c0 1.1.9 2 2 2h14c1.1 0 2-.9 2-2V5c0-1.1-.9-2-2-2zM9 17H7v-7h2v7zm4 0h-2V7h2v10zm4 0h-2v-4h2v4z\"/>\n",
              "    </g>\n",
              "</svg>\n",
              "      </button>\n",
              "\n",
              "<style>\n",
              "  .colab-df-quickchart {\n",
              "      --bg-color: #E8F0FE;\n",
              "      --fill-color: #1967D2;\n",
              "      --hover-bg-color: #E2EBFA;\n",
              "      --hover-fill-color: #174EA6;\n",
              "      --disabled-fill-color: #AAA;\n",
              "      --disabled-bg-color: #DDD;\n",
              "  }\n",
              "\n",
              "  [theme=dark] .colab-df-quickchart {\n",
              "      --bg-color: #3B4455;\n",
              "      --fill-color: #D2E3FC;\n",
              "      --hover-bg-color: #434B5C;\n",
              "      --hover-fill-color: #FFFFFF;\n",
              "      --disabled-bg-color: #3B4455;\n",
              "      --disabled-fill-color: #666;\n",
              "  }\n",
              "\n",
              "  .colab-df-quickchart {\n",
              "    background-color: var(--bg-color);\n",
              "    border: none;\n",
              "    border-radius: 50%;\n",
              "    cursor: pointer;\n",
              "    display: none;\n",
              "    fill: var(--fill-color);\n",
              "    height: 32px;\n",
              "    padding: 0;\n",
              "    width: 32px;\n",
              "  }\n",
              "\n",
              "  .colab-df-quickchart:hover {\n",
              "    background-color: var(--hover-bg-color);\n",
              "    box-shadow: 0 1px 2px rgba(60, 64, 67, 0.3), 0 1px 3px 1px rgba(60, 64, 67, 0.15);\n",
              "    fill: var(--button-hover-fill-color);\n",
              "  }\n",
              "\n",
              "  .colab-df-quickchart-complete:disabled,\n",
              "  .colab-df-quickchart-complete:disabled:hover {\n",
              "    background-color: var(--disabled-bg-color);\n",
              "    fill: var(--disabled-fill-color);\n",
              "    box-shadow: none;\n",
              "  }\n",
              "\n",
              "  .colab-df-spinner {\n",
              "    border: 2px solid var(--fill-color);\n",
              "    border-color: transparent;\n",
              "    border-bottom-color: var(--fill-color);\n",
              "    animation:\n",
              "      spin 1s steps(1) infinite;\n",
              "  }\n",
              "\n",
              "  @keyframes spin {\n",
              "    0% {\n",
              "      border-color: transparent;\n",
              "      border-bottom-color: var(--fill-color);\n",
              "      border-left-color: var(--fill-color);\n",
              "    }\n",
              "    20% {\n",
              "      border-color: transparent;\n",
              "      border-left-color: var(--fill-color);\n",
              "      border-top-color: var(--fill-color);\n",
              "    }\n",
              "    30% {\n",
              "      border-color: transparent;\n",
              "      border-left-color: var(--fill-color);\n",
              "      border-top-color: var(--fill-color);\n",
              "      border-right-color: var(--fill-color);\n",
              "    }\n",
              "    40% {\n",
              "      border-color: transparent;\n",
              "      border-right-color: var(--fill-color);\n",
              "      border-top-color: var(--fill-color);\n",
              "    }\n",
              "    60% {\n",
              "      border-color: transparent;\n",
              "      border-right-color: var(--fill-color);\n",
              "    }\n",
              "    80% {\n",
              "      border-color: transparent;\n",
              "      border-right-color: var(--fill-color);\n",
              "      border-bottom-color: var(--fill-color);\n",
              "    }\n",
              "    90% {\n",
              "      border-color: transparent;\n",
              "      border-bottom-color: var(--fill-color);\n",
              "    }\n",
              "  }\n",
              "</style>\n",
              "\n",
              "      <script>\n",
              "        async function quickchart(key) {\n",
              "          const quickchartButtonEl =\n",
              "            document.querySelector('#' + key + ' button');\n",
              "          quickchartButtonEl.disabled = true;  // To prevent multiple clicks.\n",
              "          quickchartButtonEl.classList.add('colab-df-spinner');\n",
              "          try {\n",
              "            const charts = await google.colab.kernel.invokeFunction(\n",
              "                'suggestCharts', [key], {});\n",
              "          } catch (error) {\n",
              "            console.error('Error during call to suggestCharts:', error);\n",
              "          }\n",
              "          quickchartButtonEl.classList.remove('colab-df-spinner');\n",
              "          quickchartButtonEl.classList.add('colab-df-quickchart-complete');\n",
              "        }\n",
              "        (() => {\n",
              "          let quickchartButtonEl =\n",
              "            document.querySelector('#df-117c8501-8223-4ef2-9b0a-84b35fbce21a button');\n",
              "          quickchartButtonEl.style.display =\n",
              "            google.colab.kernel.accessAllowed ? 'block' : 'none';\n",
              "        })();\n",
              "      </script>\n",
              "    </div>\n",
              "\n",
              "  <div id=\"id_3cfd86fc-52ec-4b97-91db-1fb513aeff37\">\n",
              "    <style>\n",
              "      .colab-df-generate {\n",
              "        background-color: #E8F0FE;\n",
              "        border: none;\n",
              "        border-radius: 50%;\n",
              "        cursor: pointer;\n",
              "        display: none;\n",
              "        fill: #1967D2;\n",
              "        height: 32px;\n",
              "        padding: 0 0 0 0;\n",
              "        width: 32px;\n",
              "      }\n",
              "\n",
              "      .colab-df-generate:hover {\n",
              "        background-color: #E2EBFA;\n",
              "        box-shadow: 0px 1px 2px rgba(60, 64, 67, 0.3), 0px 1px 3px 1px rgba(60, 64, 67, 0.15);\n",
              "        fill: #174EA6;\n",
              "      }\n",
              "\n",
              "      [theme=dark] .colab-df-generate {\n",
              "        background-color: #3B4455;\n",
              "        fill: #D2E3FC;\n",
              "      }\n",
              "\n",
              "      [theme=dark] .colab-df-generate:hover {\n",
              "        background-color: #434B5C;\n",
              "        box-shadow: 0px 1px 3px 1px rgba(0, 0, 0, 0.15);\n",
              "        filter: drop-shadow(0px 1px 2px rgba(0, 0, 0, 0.3));\n",
              "        fill: #FFFFFF;\n",
              "      }\n",
              "    </style>\n",
              "    <button class=\"colab-df-generate\" onclick=\"generateWithVariable('df')\"\n",
              "            title=\"Generate code using this dataframe.\"\n",
              "            style=\"display:none;\">\n",
              "\n",
              "  <svg xmlns=\"http://www.w3.org/2000/svg\" height=\"24px\"viewBox=\"0 0 24 24\"\n",
              "       width=\"24px\">\n",
              "    <path d=\"M7,19H8.4L18.45,9,17,7.55,7,17.6ZM5,21V16.75L18.45,3.32a2,2,0,0,1,2.83,0l1.4,1.43a1.91,1.91,0,0,1,.58,1.4,1.91,1.91,0,0,1-.58,1.4L9.25,21ZM18.45,9,17,7.55Zm-12,3A5.31,5.31,0,0,0,4.9,8.1,5.31,5.31,0,0,0,1,6.5,5.31,5.31,0,0,0,4.9,4.9,5.31,5.31,0,0,0,6.5,1,5.31,5.31,0,0,0,8.1,4.9,5.31,5.31,0,0,0,12,6.5,5.46,5.46,0,0,0,6.5,12Z\"/>\n",
              "  </svg>\n",
              "    </button>\n",
              "    <script>\n",
              "      (() => {\n",
              "      const buttonEl =\n",
              "        document.querySelector('#id_3cfd86fc-52ec-4b97-91db-1fb513aeff37 button.colab-df-generate');\n",
              "      buttonEl.style.display =\n",
              "        google.colab.kernel.accessAllowed ? 'block' : 'none';\n",
              "\n",
              "      buttonEl.onclick = () => {\n",
              "        google.colab.notebook.generateWithVariable('df');\n",
              "      }\n",
              "      })();\n",
              "    </script>\n",
              "  </div>\n",
              "\n",
              "    </div>\n",
              "  </div>\n"
            ],
            "application/vnd.google.colaboratory.intrinsic+json": {
              "type": "dataframe",
              "variable_name": "df",
              "summary": "{\n  \"name\": \"df\",\n  \"rows\": 81,\n  \"fields\": [\n    {\n      \"column\": \"id\",\n      \"properties\": {\n        \"dtype\": \"string\",\n        \"num_unique_values\": 81,\n        \"samples\": [\n          \"JVASP-12179\",\n          \"JVASP-12918\",\n          \"JVASP-290\"\n        ],\n        \"semantic_type\": \"\",\n        \"description\": \"\"\n      }\n    },\n    {\n      \"column\": \"target\",\n      \"properties\": {\n        \"dtype\": \"number\",\n        \"std\": 119.36049494373638,\n        \"min\": 0.949999988079071,\n        \"max\": 903.9400024414062,\n        \"num_unique_values\": 80,\n        \"samples\": [\n          60.310001373291016,\n          27.170000076293945,\n          82.33999633789062\n        ],\n        \"semantic_type\": \"\",\n        \"description\": \"\"\n      }\n    },\n    {\n      \"column\": \"prediction\",\n      \"properties\": {\n        \"dtype\": \"number\",\n        \"std\": 44.9622545374664,\n        \"min\": 28.99319267272949,\n        \"max\": 219.28347778320312,\n        \"num_unique_values\": 81,\n        \"samples\": [\n          96.5226058959961,\n          188.96530151367188,\n          84.08515167236328\n        ],\n        \"semantic_type\": \"\",\n        \"description\": \"\"\n      }\n    }\n  ]\n}"
            }
          },
          "metadata": {},
          "execution_count": 31
        }
      ]
    },
    {
      "cell_type": "code",
      "source": [
        "plt.plot(df['target'],df['prediction'],'.')\n",
        "plt.plot(df['target'],df['target'])\n",
        "plt.xlabel('DFT Exfo. energy (meV)')\n",
        "plt.ylabel('AI Exfo. energy (meV)')"
      ],
      "metadata": {
        "id": "9MqG0OUDnZ9P",
        "outputId": "9c82fcc7-2e3c-47ea-8222-db6716518ec8",
        "colab": {
          "base_uri": "https://localhost:8080/",
          "height": 467
        }
      },
      "execution_count": 32,
      "outputs": [
        {
          "output_type": "execute_result",
          "data": {
            "text/plain": [
              "Text(0, 0.5, 'AI Exfo. energy (meV)')"
            ]
          },
          "metadata": {},
          "execution_count": 32
        },
        {
          "output_type": "display_data",
          "data": {
            "text/plain": [
              "<Figure size 640x480 with 1 Axes>"
            ],
            "image/png": "[encoded data removed]"
          },
          "metadata": {}
        }
      ]
    },
    {
      "cell_type": "code",
      "source": [
        "from sklearn.metrics import mean_absolute_error\n",
        "mean_absolute_error(df['target'],df['prediction'])"
      ],
      "metadata": {
        "id": "2oIxKcidZGDd",
        "outputId": "9832a475-a187-4491-8d76-492109b52494",
        "colab": {
          "base_uri": "https://localhost:8080/"
        }
      },
      "execution_count": 33,
      "outputs": [
        {
          "output_type": "execute_result",
          "data": {
            "text/plain": [
              "46.75855312597604"
            ]
          },
          "metadata": {},
          "execution_count": 33
        }
      ]
    },
    {
      "cell_type": "markdown",
      "source": [
        "We choose one of the SinglePropertyPrediction tasks from the [leaderboard](https://pages.nist.gov/jarvis_leaderboard/AI/SinglePropertyPrediction/). See other examples in the [alignn_model](https://github.com/usnistgov/jarvis_leaderboard/tree/main/jarvis_leaderboard/benchmarks/alignn_model) benchmark folder"
      ],
      "metadata": {
        "id": "xeAE0LzCnKlE"
      }
    },
    {
      "cell_type": "markdown",
      "source": [
        "Prepare the csv file with six components in the filename."
      ],
      "metadata": {
        "id": "cbMvFvtC7lce"
      }
    },
    {
      "cell_type": "markdown",
      "source": [
        "Give a different name for the folder say alignn_test_XYZ"
      ],
      "metadata": {
        "id": "Q6g2XeXdnyJ6"
      }
    },
    {
      "cell_type": "code",
      "source": [
        "import os\n",
        "cwd=os.getcwd()\n",
        "os.makedirs('alignn_test')\n",
        "os.chdir('alignn_test')"
      ],
      "metadata": {
        "id": "vwCFr4h_coY1"
      },
      "execution_count": 34,
      "outputs": []
    },
    {
      "cell_type": "code",
      "source": [
        "!cp ../temp/prediction_results_test_set.csv ./AI-SinglePropertyPrediction-exfoliation_energy-dft_3d-test-mae.csv"
      ],
      "metadata": {
        "id": "QBvvjSzUdYEb"
      },
      "execution_count": 35,
      "outputs": []
    },
    {
      "cell_type": "code",
      "source": [
        "!zip AI-SinglePropertyPrediction-exfoliation_energy-dft_3d-test-mae.csv.zip AI-SinglePropertyPrediction-exfoliation_energy-dft_3d-test-mae.csv"
      ],
      "metadata": {
        "id": "bOSvHHgaARYj",
        "outputId": "2ea3c782-26c4-422e-cccb-569ca11f4685",
        "colab": {
          "base_uri": "https://localhost:8080/"
        }
      },
      "execution_count": 36,
      "outputs": [
        {
          "output_type": "stream",
          "name": "stdout",
          "text": [
            "  adding: AI-SinglePropertyPrediction-exfoliation_energy-dft_3d-test-mae.csv (deflated 58%)\n"
          ]
        }
      ]
    },
    {
      "cell_type": "markdown",
      "source": [
        "Get sample metadata"
      ],
      "metadata": {
        "id": "uBgSGPWdn8SM"
      }
    },
    {
      "cell_type": "code",
      "source": [
        "!wget https://raw.githubusercontent.com/usnistgov/jarvis_leaderboard/main/jarvis_leaderboard/contributions/alignn_model/metadata.json"
      ],
      "metadata": {
        "id": "iL-GrUkBoYbK",
        "outputId": "9f8f5367-1ac3-4f75-e1f6-9b03df633942",
        "colab": {
          "base_uri": "https://localhost:8080/"
        }
      },
      "execution_count": 37,
      "outputs": [
        {
          "output_type": "stream",
          "name": "stdout",
          "text": [
            "--2025-09-22 22:12:42--  https://raw.githubusercontent.com/usnistgov/jarvis_leaderboard/main/jarvis_leaderboard/contributions/alignn_model/metadata.json\n",
            "Resolving raw.githubusercontent.com (raw.githubusercontent.com)... 185.199.110.133, 185.199.109.133, 185.199.108.133, ...\n",
            "Connecting to raw.githubusercontent.com (raw.githubusercontent.com)|185.199.110.133|:443... connected.\n",
            "HTTP request sent, awaiting response... 200 OK\n",
            "Length: 6007 (5.9K) [text/plain]\n",
            "Saving to: ‘metadata.json’\n",
            "\n",
            "metadata.json       100%[===================>]   5.87K  --.-KB/s    in 0s      \n",
            "\n",
            "2025-09-22 22:12:42 (81.9 MB/s) - ‘metadata.json’ saved [6007/6007]\n",
            "\n"
          ]
        }
      ]
    },
    {
      "cell_type": "code",
      "source": [
        "!rm AI-SinglePropertyPrediction-exfoliation_energy-dft_3d-test-mae.csv"
      ],
      "metadata": {
        "id": "fHONp3dHCdC1"
      },
      "execution_count": 38,
      "outputs": []
    },
    {
      "cell_type": "code",
      "source": [
        "!ls"
      ],
      "metadata": {
        "id": "hBoZsGgZoAoy",
        "outputId": "c6548ef0-1614-4618-dd54-23e60f3fbd1f",
        "colab": {
          "base_uri": "https://localhost:8080/"
        }
      },
      "execution_count": 39,
      "outputs": [
        {
          "output_type": "stream",
          "name": "stdout",
          "text": [
            "AI-SinglePropertyPrediction-exfoliation_energy-dft_3d-test-mae.csv.zip\n",
            "metadata.json\n"
          ]
        }
      ]
    },
    {
      "cell_type": "code",
      "source": [
        "from jarvis.db.jsonutils import loadjson,dumpjson\n",
        "meta = loadjson('metadata.json')"
      ],
      "metadata": {
        "id": "Gjsb_XYmoY_F"
      },
      "execution_count": 40,
      "outputs": []
    },
    {
      "cell_type": "code",
      "source": [
        "meta"
      ],
      "metadata": {
        "id": "ac19fH7jojF5",
        "outputId": "ec9cb39d-edd7-45b1-d553-e0ae5a7b84ed",
        "colab": {
          "base_uri": "https://localhost:8080/"
        }
      },
      "execution_count": 41,
      "outputs": [
        {
          "output_type": "execute_result",
          "data": {
            "text/plain": [
              "{'model_name': 'ALIGNN',\n",
              " 'project_url': 'https://www.nature.com/articles/s41524-021-00650-1',\n",
              " 'date_submitted': '01-14-2023',\n",
              " 'author_email': 'knc6@nist.gov',\n",
              " 'database_version': '12-12-2022',\n",
              " 'team_name': 'ALIGNN',\n",
              " 'time_taken_seconds': {'AI-SinglePropertyClass-magmom_oszicar-dft_3d-test-acc.csv.zip': '',\n",
              "  'AI-SinglePropertyClass-mbj_bandgap-dft_3d-test-acc.csv.zip': '',\n",
              "  'AI-SinglePropertyClass-n_powerfact-dft_3d-test-acc.csv.zip': '',\n",
              "  'AI-SinglePropertyClass-optb88vdw_bandgap-dft_3d-test-acc.csv.zip': '',\n",
              "  'AI-SinglePropertyClass-p_Seebeck-dft_3d-test-acc.csv.zip': '',\n",
              "  'AI-SinglePropertyClass-slme-dft_3d-test-acc.csv.zip': '',\n",
              "  'AI-SinglePropertyClass-spillage-dft_3d-test-acc.csv.zip': '',\n",
              "  'AI-SinglePropertyPrediction-alpha-qm9_std_jctc-test-mae.csv.zip': '',\n",
              "  'AI-SinglePropertyPrediction-avg_elec_mass-dft_3d-test-mae.csv.zip': '',\n",
              "  'AI-SinglePropertyPrediction-avg_hole_mass-dft_3d-test-mae.csv.zip': '',\n",
              "  'AI-SinglePropertyPrediction-bandgap-qmof-test-mae.csv.zip': '',\n",
              "  'AI-SinglePropertyPrediction-Band_gap_HSE-snumat-test-mae.csv.zip': '',\n",
              "  'AI-SinglePropertyPrediction-bulk_modulus_kv-dft_3d-test-mae.csv.zip': '',\n",
              "  'AI-SinglePropertyPrediction-Cv-qm9_std_jctc-test-mae.csv.zip': '',\n",
              "  'AI-SinglePropertyPrediction-dfpt_piezo_max_dielectric-dft_3d-test-mae.csv.zip': '',\n",
              "  'AI-SinglePropertyPrediction-dfpt_piezo_max_dij-dft_3d-test-mae.csv.zip': '',\n",
              "  'AI-SinglePropertyPrediction-ead-tinnet_N-test-mae.csv.zip': '',\n",
              "  'AI-SinglePropertyPrediction-ehull-dft_3d-test-mae.csv.zip': '',\n",
              "  'AI-SinglePropertyPrediction-encut-dft_3d-test-mae.csv.zip': '',\n",
              "  'AI-SinglePropertyPrediction-energy_per_atom-qe_tb-test-mae.csv.zip': '',\n",
              "  'AI-SinglePropertyPrediction-epsx-dft_3d-test-mae.csv.zip': '',\n",
              "  'AI-SinglePropertyPrediction-epsy-dft_3d-test-mae.csv.zip': '',\n",
              "  'AI-SinglePropertyPrediction-epsz-dft_3d-test-mae.csv.zip': '',\n",
              "  'AI-SinglePropertyPrediction-exfoliation_energy-dft_3d-test-mae.csv.zip': '',\n",
              "  'AI-SinglePropertyPrediction-e_form-megnet-test-mae.csv.zip': '',\n",
              "  'AI-SinglePropertyPrediction-formation_energy_peratom-dft_3d-test-mae.csv.zip': '',\n",
              "  'AI-SinglePropertyPrediction-f_enp-qe_tb-test-mae.csv.zip': '',\n",
              "  'AI-SinglePropertyPrediction-G-qm9_std_jctc-test-mae.csv.zip': '',\n",
              "  'AI-SinglePropertyPrediction-gap-qm9_std_jctc-test-mae.csv.zip': '',\n",
              "  'AI-SinglePropertyPrediction-gappbe-megnet-test-mae.csv.zip': '',\n",
              "  'AI-SinglePropertyPrediction-H-qm9_std_jctc-test-mae.csv.zip': '',\n",
              "  'AI-SinglePropertyPrediction-HOMO-qm9_std_jctc-test-mae.csv.zip': '',\n",
              "  'AI-SinglePropertyPrediction-HSE_decomp_energy-halide_peroskites-test-mae.csv.zip': '',\n",
              "  'AI-SinglePropertyPrediction-HSE_gap-halide_peroskites-test-mae.csv.zip': '',\n",
              "  'AI-SinglePropertyPrediction-indir_gap-qe_tb-test-mae.csv.zip': '',\n",
              "  'AI-SinglePropertyPrediction-kpoint_length_unit-dft_3d-test-mae.csv.zip': '',\n",
              "  'AI-SinglePropertyPrediction-lcd-hmof-test-mae.csv.zip': '',\n",
              "  'AI-SinglePropertyPrediction-LUMO-qm9_std_jctc-test-mae.csv.zip': '',\n",
              "  'AI-SinglePropertyPrediction-magmom_oszicar-dft_3d-test-mae.csv.zip': '',\n",
              "  'AI-SinglePropertyPrediction-max_co2_adsp-hmof-test-mae.csv.zip': '',\n",
              "  'AI-SinglePropertyPrediction-max_efg-dft_3d-test-mae.csv.zip': '',\n",
              "  'AI-SinglePropertyPrediction-mbj_bandgap-dft_3d-test-mae.csv.zip': '',\n",
              "  'AI-SinglePropertyPrediction-mepsx-dft_3d-test-mae.csv.zip': '',\n",
              "  'AI-SinglePropertyPrediction-mepsy-dft_3d-test-mae.csv.zip': '',\n",
              "  'AI-SinglePropertyPrediction-mepsz-dft_3d-test-mae.csv.zip': '',\n",
              "  'AI-SinglePropertyPrediction-min_co2_adsp-hmof-test-mae.csv.zip': '',\n",
              "  'AI-SinglePropertyPrediction-mu-qm9_std_jctc-test-mae.csv.zip': '',\n",
              "  'AI-SinglePropertyPrediction-n_powerfact-dft_3d-test-mae.csv.zip': '',\n",
              "  'AI-SinglePropertyPrediction-n_Seebeck-dft_3d-test-mae.csv.zip': '',\n",
              "  'AI-SinglePropertyPrediction-optb88vdw_bandgap-dft_3d-test-mae.csv.zip': '',\n",
              "  'AI-SinglePropertyPrediction-optb88vdw_total_energy-dft_3d-test-mae.csv.zip': '',\n",
              "  'AI-SinglePropertyPrediction-PBE_decomp_energy-halide_peroskites-test-mae.csv.zip': '',\n",
              "  'AI-SinglePropertyPrediction-PBE_gap-halide_peroskites-test-mae.csv.zip': '',\n",
              "  'AI-SinglePropertyPrediction-ph_heat_capacity-dft_3d-test-mae.csv.zip': '',\n",
              "  'AI-SinglePropertyPrediction-pld-hmof-test-mae.csv.zip': '',\n",
              "  'AI-SinglePropertyPrediction-R2-qm9_std_jctc-test-mae.csv.zip': '',\n",
              "  'AI-SinglePropertyPrediction-Ref_ind-halide_peroskites-test-mae.csv.zip': '',\n",
              "  'AI-SinglePropertyPrediction-relaxed_energy-ocp100k-test-mae.csv.zip': '',\n",
              "  'AI-SinglePropertyPrediction-relaxed_energy-ocp10k-test-mae.csv.zip': '',\n",
              "  'AI-SinglePropertyPrediction-relaxed_energy-ocp_all-test-mae.csv.zip': '',\n",
              "  'AI-SinglePropertyPrediction-shear_modulus_gv-dft_3d-test-mae.csv.zip': '',\n",
              "  'AI-SinglePropertyPrediction-slme-dft_3d-test-mae.csv.zip': '',\n",
              "  'AI-SinglePropertyPrediction-spillage-dft_3d-test-mae.csv.zip': '',\n",
              "  'AI-SinglePropertyPrediction-surface_area_m2cm3-hmof-test-mae.csv.zip': '',\n",
              "  'AI-SinglePropertyPrediction-surface_area_m2g-hmof-test-mae.csv.zip': '',\n",
              "  'AI-SinglePropertyPrediction-U-qm9_std_jctc-test-mae.csv.zip': '',\n",
              "  'AI-SinglePropertyPrediction-U0-qm9_std_jctc-test-mae.csv.zip': '',\n",
              "  'AI-SinglePropertyPrediction-void_fraction-hmof-test-mae.csv.zip': '',\n",
              "  'AI-SinglePropertyPrediction-ZPVE-qm9_std_jctc-test-mae.csv.zip': '',\n",
              "  'AI-Spectra-ph_dos-edos_pdos-test-multimae.csv.zip': ''},\n",
              " 'language': 'python',\n",
              " 'os': 'linux',\n",
              " 'software_used': 'jarvis-tools,numpy,scipy,torch,alignn',\n",
              " 'hardware_used': 'nisaba-cluster at NIST, V100 Tesla GPU',\n",
              " 'git_url': ['https://github.com/usnistgov/alignn']}"
            ]
          },
          "metadata": {},
          "execution_count": 41
        }
      ]
    },
    {
      "cell_type": "markdown",
      "source": [
        "Feel free to edit the file and keep the info for benchmarks you contributed"
      ],
      "metadata": {
        "id": "NkbmMQAkoSGK"
      }
    },
    {
      "cell_type": "code",
      "source": [
        "meta['model_name'] = 'alignn_test'\n",
        "\n",
        "# TODO: Add other details\n",
        "dumpjson(data=meta,filename='metadata.json')"
      ],
      "metadata": {
        "id": "SltvTqYcolz5"
      },
      "execution_count": 42,
      "outputs": []
    },
    {
      "cell_type": "code",
      "source": [
        "!wget https://raw.githubusercontent.com/usnistgov/jarvis_leaderboard/main/jarvis_leaderboard/contributions/alignn_model/run.sh"
      ],
      "metadata": {
        "id": "6-re0TtspSlP",
        "outputId": "e07093d7-0f8a-465f-c720-4c49a8f82b48",
        "colab": {
          "base_uri": "https://localhost:8080/"
        }
      },
      "execution_count": 43,
      "outputs": [
        {
          "output_type": "stream",
          "name": "stdout",
          "text": [
            "--2025-09-22 22:12:59--  https://raw.githubusercontent.com/usnistgov/jarvis_leaderboard/main/jarvis_leaderboard/contributions/alignn_model/run.sh\n",
            "Resolving raw.githubusercontent.com (raw.githubusercontent.com)... 185.199.109.133, 185.199.108.133, 185.199.111.133, ...\n",
            "Connecting to raw.githubusercontent.com (raw.githubusercontent.com)|185.199.109.133|:443... connected.\n",
            "HTTP request sent, awaiting response... 200 OK\n",
            "Length: 122 [text/plain]\n",
            "Saving to: ‘run.sh’\n",
            "\n",
            "\rrun.sh                0%[                    ]       0  --.-KB/s               \rrun.sh              100%[===================>]     122  --.-KB/s    in 0s      \n",
            "\n",
            "2025-09-22 22:12:59 (2.31 MB/s) - ‘run.sh’ saved [122/122]\n",
            "\n"
          ]
        }
      ]
    },
    {
      "cell_type": "code",
      "source": [
        "os.chdir(cwd)"
      ],
      "metadata": {
        "id": "D_1pKCUGpa6d"
      },
      "execution_count": 44,
      "outputs": []
    },
    {
      "cell_type": "markdown",
      "source": [
        "Add github username"
      ],
      "metadata": {
        "id": "0bWNdUBpby_x"
      }
    },
    {
      "cell_type": "code",
      "source": [
        "username = \"Wanwan-Laang\"\n",
        "email = \"wleng2@illinois.edu\"\n",
        "passwd = \"Sz#2060391014\"\n",
        "\n",
        "\n",
        "!git config --global credential.helper cache\n",
        "!git config --global credential.helper 'cache --timeout=3600'\n",
        "!git config --global user.name {username}\n",
        "!git config --global user.email {email}\n",
        "!git config --global user.password {passwd}"
      ],
      "metadata": {
        "id": "k-3r4OXObj3N"
      },
      "execution_count": 47,
      "outputs": []
    },
    {
      "cell_type": "code",
      "source": [],
      "metadata": {
        "id": "_sO_KCRWR1y1"
      },
      "execution_count": null,
      "outputs": []
    },
    {
      "cell_type": "markdown",
      "source": [
        "1. Replace knc6 by your own GitHub username.\n",
        "2. You might have to add your [GitHub password/token](https://github.com/settings/tokens) twice at the command prompt after you run the following command.\n",
        "3. This will create a new pull request at the parent repo: https://github.com/usnistgov/jarvis_leaderboard/pulls\n",
        "4. After an admin approves the contribution, the benchmark will be added to the main website.\n"
      ],
      "metadata": {
        "id": "ikxgIY6Tx4tn"
      }
    },
    {
      "cell_type": "code",
      "source": [
        "ls\n"
      ],
      "metadata": {
        "colab": {
          "base_uri": "https://localhost:8080/"
        },
        "id": "6-G3NwRohdn4",
        "outputId": "b0dac6d0-0fac-4c3c-f2c7-b20e59465dac"
      },
      "execution_count": 58,
      "outputs": [
        {
          "output_type": "stream",
          "name": "stdout",
          "text": [
            "\u001b[0m\u001b[01;34malignn\u001b[0m/           \u001b[01;34mAval_data\u001b[0m/                 LICENSE.rst     \u001b[01;34mtemp\u001b[0m/\n",
            "\u001b[01;34malignn.egg-info\u001b[0m/  config_example.json        \u001b[01;34mOut\u001b[0m/            tmp_config.json\n",
            "\u001b[01;34malignn_test\u001b[0m/      \u001b[01;34mcopy_Aval_to_alignn_test\u001b[0m/  pyproject.toml\n",
            "\u001b[01;34mAtest_data\u001b[0m/       environment.yml            README.md\n",
            "\u001b[01;34mAtrain_data\u001b[0m/      ghout                      setup.py\n"
          ]
        }
      ]
    },
    {
      "cell_type": "code",
      "source": [
        "!jarvis_upload.py --help"
      ],
      "metadata": {
        "colab": {
          "base_uri": "https://localhost:8080/"
        },
        "id": "ByP5evhfi3Sr",
        "outputId": "f8740b9b-27eb-47e3-fc8e-35762050ec14"
      },
      "execution_count": 61,
      "outputs": [
        {
          "output_type": "stream",
          "name": "stdout",
          "text": [
            "Make sure GitHub credentials are added\n",
            "Checking:\n",
            "\n",
            "usage: jarvis_upload.py [-h] [--upstream_repo_name UPSTREAM_REPO_NAME]\n",
            "                        [--upstream_repo_username UPSTREAM_REPO_USERNAME]\n",
            "                        [--github_username GITHUB_USERNAME]\n",
            "                        [--your_contribution_directory YOUR_CONTRIBUTION_DIRECTORY]\n",
            "\n",
            "Add data to JARVIS-Leaderboard.\n",
            "\n",
            "options:\n",
            "  -h, --help            show this help message and exit\n",
            "  --upstream_repo_name UPSTREAM_REPO_NAME\n",
            "                        Upstream/source repo name\n",
            "  --upstream_repo_username UPSTREAM_REPO_USERNAME\n",
            "                        Upstream/source repo user name\n",
            "  --github_username GITHUB_USERNAME\n",
            "                        Your GitHub username\n",
            "  --your_contribution_directory YOUR_CONTRIBUTION_DIRECTORY\n",
            "                        Your contribution to be added.\n"
          ]
        }
      ]
    },
    {
      "cell_type": "code",
      "source": [
        "!jarvis_upload.py  copy_Aval_to_alignn_test alignn_test"
      ],
      "metadata": {
        "id": "HTFCJFG8STLM",
        "colab": {
          "base_uri": "https://localhost:8080/"
        },
        "outputId": "b830816b-a63e-4d7d-e8d1-de147afa8994"
      },
      "execution_count": 63,
      "outputs": [
        {
          "output_type": "stream",
          "name": "stdout",
          "text": [
            "Make sure GitHub credentials are added\n",
            "Checking:\n",
            "\n",
            "usage: jarvis_upload.py [-h] [--upstream_repo_name UPSTREAM_REPO_NAME]\n",
            "                        [--upstream_repo_username UPSTREAM_REPO_USERNAME]\n",
            "                        [--github_username GITHUB_USERNAME]\n",
            "                        [--your_contribution_directory YOUR_CONTRIBUTION_DIRECTORY]\n",
            "jarvis_upload.py: error: unrecognized arguments: copy_Aval_to_alignn_test alignn_test\n"
          ]
        }
      ]
    },
    {
      "cell_type": "markdown",
      "source": [
        "The above script automatically:\n",
        "\n",
        "   a) forks the jarvis_leaderboard repo from `https://github.com/usnistgov/jarvis_leaderboard` to your GitHub account,\n",
        "\n",
        "   b) clones the forked jarvis_leaderboard from GitHub,  \n",
        "\n",
        "   c) copies the `test_bench` folder in the `jarvis_leaderboard/benchmarks` folder,\n",
        "\n",
        "   d) check if adding your benchmarks breaks the workflow using `rebuild.py` script,\n",
        "\n",
        "   e) `git add`, `git commit`, and `git push` to the forked repo,\n",
        "\n",
        "   f) create a pull request to the main usnistgov repo,\n",
        "\n",
        "   g) an admin will approve the benchmark and new pages will be created.\n"
      ],
      "metadata": {
        "id": "IGPAhF887XQ_"
      }
    },
    {
      "cell_type": "markdown",
      "source": [
        "Please be mindful not to upload too many unnecessary benchmarks. You can learn about the ethics of software development here: https://github.com/usnistgov/jarvis/blob/master/CODE_OF_CONDUCT.md\n",
        "\n",
        "Learn more about NIST-License here: https://github.com/usnistgov/jarvis/blob/master/LICENSE.rst"
      ],
      "metadata": {
        "id": "78WE4qQmEtWo"
      }
    },
    {
      "cell_type": "code",
      "source": [
        "pip freeze"
      ],
      "metadata": {
        "colab": {
          "base_uri": "https://localhost:8080/"
        },
        "id": "JuFXMDIM7XEd",
        "outputId": "c32ab932-485a-400e-a4c0-fed5cff64f54"
      },
      "execution_count": 49,
      "outputs": [
        {
          "output_type": "stream",
          "name": "stdout",
          "text": [
            "absl-py==1.4.0\n",
            "absolufy-imports==0.3.1\n",
            "accelerate==1.10.1\n",
            "aiofiles==24.1.0\n",
            "aiohappyeyeballs==2.6.1\n",
            "aiohttp==3.12.15\n",
            "aiosignal==1.4.0\n",
            "alabaster==1.0.0\n",
            "albucore==0.0.24\n",
            "albumentations==2.0.8\n",
            "ale-py==0.11.2\n",
            "alembic==1.16.5\n",
            "-e git+https://github.com/atomgptlab/alignn.git@35b02192b4c452035b7e76fb4774d82d3b209519#egg=alignn\n",
            "altair==5.5.0\n",
            "annotated-types==0.7.0\n",
            "antlr4-python3-runtime==4.9.3\n",
            "anyio==4.10.0\n",
            "anywidget==0.9.18\n",
            "argon2-cffi==25.1.0\n",
            "argon2-cffi-bindings==25.1.0\n",
            "array_record==0.8.1\n",
            "arrow==1.3.0\n",
            "arviz==0.22.0\n",
            "ase==3.26.0\n",
            "astropy==7.1.0\n",
            "astropy-iers-data==0.2025.9.15.0.37.0\n",
            "astunparse==1.6.3\n",
            "atpublic==5.1\n",
            "attrs==25.3.0\n",
            "audioread==3.0.1\n",
            "Authlib==1.6.4\n",
            "autograd==1.8.0\n",
            "babel==2.17.0\n",
            "backcall==0.2.0\n",
            "beartype==0.21.0\n",
            "beautifulsoup4==4.13.5\n",
            "betterproto==2.0.0b6\n",
            "bigframes==2.21.0\n",
            "bigquery-magics==0.10.3\n",
            "bleach==6.2.0\n",
            "blinker==1.9.0\n",
            "blis==1.3.0\n",
            "blobfile==3.1.0\n",
            "blosc2==3.8.0\n",
            "bokeh==3.7.3\n",
            "Bottleneck==1.4.2\n",
            "bqplot==0.12.45\n",
            "branca==0.8.1\n",
            "Brotli==1.1.0\n",
            "build==1.3.0\n",
            "CacheControl==0.14.3\n",
            "cachetools==5.5.2\n",
            "catalogue==2.0.10\n",
            "certifi==2025.8.3\n",
            "cffi==2.0.0\n",
            "chardet==5.2.0\n",
            "charset-normalizer==3.4.3\n",
            "chex==0.1.90\n",
            "clarabel==0.11.1\n",
            "click==8.2.1\n",
            "cloudpathlib==0.22.0\n",
            "cloudpickle==3.1.1\n",
            "cmake==3.31.6\n",
            "cmdstanpy==1.2.5\n",
            "colorcet==3.1.0\n",
            "colorlover==0.3.0\n",
            "colour==0.1.5\n",
            "community==1.0.0b1\n",
            "confection==0.1.5\n",
            "cons==0.4.7\n",
            "contourpy==1.3.3\n",
            "cramjam==2.11.0\n",
            "cryptography==43.0.3\n",
            "cuda-python==12.6.2.post1\n",
            "cudf-cu12 @ https://pypi.nvidia.com/cudf-cu12/cudf_cu12-25.6.0-cp312-cp312-manylinux_2_24_x86_64.manylinux_2_28_x86_64.whl\n",
            "cudf-polars-cu12==25.6.0\n",
            "cufflinks==0.17.3\n",
            "cuml-cu12==25.6.0\n",
            "cupy-cuda12x==13.3.0\n",
            "curl_cffi==0.13.0\n",
            "cuvs-cu12==25.6.1\n",
            "cvxopt==1.3.2\n",
            "cvxpy==1.6.7\n",
            "cycler==0.12.1\n",
            "cyipopt==1.5.0\n",
            "cymem==2.0.11\n",
            "Cython==3.0.12\n",
            "dask==2025.5.0\n",
            "dask-cuda==25.6.0\n",
            "dask-cudf-cu12==25.6.0\n",
            "dataproc-spark-connect==0.8.3\n",
            "datasets==4.0.0\n",
            "db-dtypes==1.4.3\n",
            "dbus-python==1.2.18\n",
            "debugpy==1.8.15\n",
            "decorator==4.4.2\n",
            "defusedxml==0.7.1\n",
            "dgl==2.4.0+cu124\n",
            "diffusers==0.35.1\n",
            "dill==0.3.8\n",
            "distributed==2025.5.0\n",
            "distributed-ucxx-cu12==0.44.0\n",
            "distro==1.9.0\n",
            "dlib==19.24.6\n",
            "dm-tree==0.1.9\n",
            "docstring_parser==0.17.0\n",
            "docutils==0.21.2\n",
            "dopamine_rl==4.1.2\n",
            "duckdb==1.3.2\n",
            "earthengine-api==1.5.24\n",
            "easydict==1.13\n",
            "editdistance==0.8.1\n",
            "eerepr==0.1.2\n",
            "einops==0.8.1\n",
            "en_core_web_sm @ https://github.com/explosion/spacy-models/releases/download/en_core_web_sm-3.8.0/en_core_web_sm-3.8.0-py3-none-any.whl#sha256=1932429db727d4bff3deed6b34cfc05df17794f4a52eeb26cf8928f7c1a0fb85\n",
            "entrypoints==0.4\n",
            "et_xmlfile==2.0.0\n",
            "etils==1.13.0\n",
            "etuples==0.3.10\n",
            "Farama-Notifications==0.0.4\n",
            "fastai==2.8.4\n",
            "fastapi==0.116.2\n",
            "fastcore==1.8.8\n",
            "fastdownload==0.0.7\n",
            "fastjsonschema==2.21.2\n",
            "fastprogress==1.0.3\n",
            "fastrlock==0.8.3\n",
            "fasttransform==0.0.2\n",
            "ffmpy==0.6.1\n",
            "filelock==3.19.1\n",
            "firebase-admin==6.9.0\n",
            "flake8==7.3.0\n",
            "Flask==3.1.2\n",
            "flatbuffers==25.2.10\n",
            "flax==0.10.6\n",
            "folium==0.20.0\n",
            "fonttools==4.60.0\n",
            "fqdn==1.5.1\n",
            "frozendict==2.4.6\n",
            "frozenlist==1.7.0\n",
            "fsspec==2025.3.0\n",
            "future==1.0.0\n",
            "gast==0.6.0\n",
            "gcsfs==2025.3.0\n",
            "GDAL==3.8.4\n",
            "gdown==5.2.0\n",
            "geemap==0.35.3\n",
            "geocoder==1.38.1\n",
            "geographiclib==2.1\n",
            "geopandas==1.1.1\n",
            "geopy==2.4.1\n",
            "gin-config==0.5.0\n",
            "gitdb==4.0.12\n",
            "GitPython==3.1.45\n",
            "glob2==0.7\n",
            "google==2.0.3\n",
            "google-adk==1.14.1\n",
            "google-ai-generativelanguage==0.6.15\n",
            "google-api-core==2.25.1\n",
            "google-api-python-client==2.182.0\n",
            "google-auth==2.38.0\n",
            "google-auth-httplib2==0.2.0\n",
            "google-auth-oauthlib==1.2.2\n",
            "google-cloud-aiplatform==1.114.0\n",
            "google-cloud-appengine-logging==1.6.2\n",
            "google-cloud-audit-log==0.3.2\n",
            "google-cloud-bigquery==3.38.0\n",
            "google-cloud-bigquery-connection==1.18.3\n",
            "google-cloud-bigquery-storage==2.33.1\n",
            "google-cloud-bigtable==2.32.0\n",
            "google-cloud-core==2.4.3\n",
            "google-cloud-dataproc==5.21.0\n",
            "google-cloud-datastore==2.21.0\n",
            "google-cloud-firestore==2.21.0\n",
            "google-cloud-functions==1.20.4\n",
            "google-cloud-language==2.17.2\n",
            "google-cloud-logging==3.12.1\n",
            "google-cloud-resource-manager==1.14.2\n",
            "google-cloud-secret-manager==2.24.0\n",
            "google-cloud-spanner==3.57.0\n",
            "google-cloud-speech==2.33.0\n",
            "google-cloud-storage==2.19.0\n",
            "google-cloud-trace==1.16.2\n",
            "google-cloud-translate==3.21.1\n",
            "google-colab @ file:///colabtools/dist/google_colab-1.0.0.tar.gz\n",
            "google-crc32c==1.7.1\n",
            "google-genai==1.38.0\n",
            "google-generativeai==0.8.5\n",
            "google-pasta==0.2.0\n",
            "google-resumable-media==2.7.2\n",
            "googleapis-common-protos==1.70.0\n",
            "googledrivedownloader==1.1.0\n",
            "gradio==5.46.0\n",
            "gradio_client==1.13.0\n",
            "graphviz==0.21\n",
            "greenlet==3.2.4\n",
            "groovy==0.1.2\n",
            "grpc-google-iam-v1==0.14.2\n",
            "grpc-interceptor==0.15.4\n",
            "grpcio==1.75.0\n",
            "grpcio-status==1.71.2\n",
            "grpclib==0.4.8\n",
            "gspread==6.2.1\n",
            "gspread-dataframe==4.0.0\n",
            "gym==0.25.2\n",
            "gym-notices==0.1.0\n",
            "gymnasium==1.2.0\n",
            "h11==0.16.0\n",
            "h2==4.3.0\n",
            "h5netcdf==1.6.4\n",
            "h5py==3.14.0\n",
            "hdbscan==0.8.40\n",
            "hf-xet==1.1.10\n",
            "hf_transfer==0.1.9\n",
            "highspy==1.11.0\n",
            "holidays==0.81\n",
            "holoviews==1.21.0\n",
            "hpack==4.1.0\n",
            "html5lib==1.1\n",
            "httpcore==1.0.9\n",
            "httpimport==1.4.1\n",
            "httplib2==0.31.0\n",
            "httpx==0.28.1\n",
            "httpx-sse==0.4.1\n",
            "huggingface-hub==0.35.0\n",
            "humanize==4.13.0\n",
            "hyperframe==6.1.0\n",
            "hyperopt==0.2.7\n",
            "ibis-framework==9.5.0\n",
            "idna==3.10\n",
            "imageio==2.37.0\n",
            "imageio-ffmpeg==0.6.0\n",
            "imagesize==1.4.1\n",
            "imbalanced-learn==0.14.0\n",
            "immutabledict==4.2.1\n",
            "importlib_metadata==8.7.0\n",
            "importlib_resources==6.5.2\n",
            "imutils==0.5.4\n",
            "inflect==7.5.0\n",
            "iniconfig==2.1.0\n",
            "intel-cmplr-lib-ur==2025.2.1\n",
            "intel-openmp==2025.2.1\n",
            "ipyevents==2.0.4\n",
            "ipyfilechooser==0.6.0\n",
            "ipykernel==6.17.1\n",
            "ipyleaflet==0.20.0\n",
            "ipyparallel==8.8.0\n",
            "ipython==7.34.0\n",
            "ipython-genutils==0.2.0\n",
            "ipython-sql==0.5.0\n",
            "ipytree==0.2.2\n",
            "ipywidgets==7.7.1\n",
            "isoduration==20.11.0\n",
            "itsdangerous==2.2.0\n",
            "jaraco.classes==3.4.0\n",
            "jaraco.context==6.0.1\n",
            "jaraco.functools==4.3.0\n",
            "jarvis-tools==2025.5.30\n",
            "jarvis_leaderboard==2024.10.30\n",
            "jax==0.5.3\n",
            "jax-cuda12-pjrt==0.5.3\n",
            "jax-cuda12-plugin==0.5.3\n",
            "jaxlib==0.5.3\n",
            "jeepney==0.9.0\n",
            "jieba==0.42.1\n",
            "Jinja2==3.1.6\n",
            "jiter==0.11.0\n",
            "joblib==1.5.2\n",
            "jsonpatch==1.33\n",
            "jsonpickle==4.1.1\n",
            "jsonpointer==3.0.0\n",
            "jsonschema==4.25.1\n",
            "jsonschema-specifications==2025.9.1\n",
            "jupyter-console==6.6.3\n",
            "jupyter-events==0.12.0\n",
            "jupyter-leaflet==0.20.0\n",
            "jupyter_client==7.4.9\n",
            "jupyter_core==5.8.1\n",
            "jupyter_kernel_gateway @ git+https://github.com/googlecolab/kernel_gateway@b134e9945df25c2dcb98ade9129399be10788671\n",
            "jupyter_server==2.14.0\n",
            "jupyter_server_terminals==0.5.3\n",
            "jupyterlab_pygments==0.3.0\n",
            "jupyterlab_widgets==3.0.15\n",
            "jupytext==1.17.3\n",
            "kaggle==1.7.4.5\n",
            "kagglehub==0.3.13\n",
            "keras==3.10.0\n",
            "keras-hub==0.21.1\n",
            "keras-nlp==0.21.1\n",
            "keyring==25.6.0\n",
            "keyrings.google-artifactregistry-auth==1.1.2\n",
            "kiwisolver==1.4.9\n",
            "langchain==0.3.27\n",
            "langchain-core==0.3.76\n",
            "langchain-text-splitters==0.3.11\n",
            "langcodes==3.5.0\n",
            "langsmith==0.4.28\n",
            "language_data==1.3.0\n",
            "lark==1.2.2\n",
            "launchpadlib==1.10.16\n",
            "lazr.restfulclient==0.14.4\n",
            "lazr.uri==1.0.6\n",
            "lazy_loader==0.4\n",
            "libclang==18.1.1\n",
            "libcudf-cu12 @ https://pypi.nvidia.com/libcudf-cu12/libcudf_cu12-25.6.0-py3-none-manylinux_2_28_x86_64.whl\n",
            "libcugraph-cu12==25.6.0\n",
            "libcuml-cu12==25.6.0\n",
            "libcuvs-cu12==25.6.1\n",
            "libkvikio-cu12==25.6.0\n",
            "libpysal==4.13.0\n",
            "libraft-cu12==25.6.0\n",
            "librmm-cu12==25.6.0\n",
            "librosa==0.11.0\n",
            "libucx-cu12==1.18.1\n",
            "libucxx-cu12==0.44.0\n",
            "lightgbm @ file:///tmp/lightgbm/LightGBM/dist/lightgbm-4.6.0-py3-none-linux_x86_64.whl\n",
            "linkify-it-py==2.0.3\n",
            "llvmlite==0.43.0\n",
            "lmdb==1.7.3\n",
            "locket==1.0.0\n",
            "logical-unification==0.4.6\n",
            "lxml==5.4.0\n",
            "Mako==1.3.10\n",
            "marisa-trie==1.3.1\n",
            "Markdown==3.9\n",
            "markdown-it-py==4.0.0\n",
            "MarkupSafe==3.0.2\n",
            "matplotlib==3.10.0\n",
            "matplotlib-inline==0.1.7\n",
            "matplotlib-venn==1.1.2\n",
            "mccabe==0.7.0\n",
            "mcp==1.14.1\n",
            "mdit-py-plugins==0.5.0\n",
            "mdurl==0.1.2\n",
            "miniKanren==1.0.5\n",
            "missingno==0.5.2\n",
            "mistune==3.1.4\n",
            "mizani==0.13.5\n",
            "mkl==2025.2.0\n",
            "ml_dtypes==0.5.3\n",
            "mlxtend==0.23.4\n",
            "more-itertools==10.8.0\n",
            "moviepy==1.0.3\n",
            "mpmath==1.3.0\n",
            "msgpack==1.1.1\n",
            "multidict==6.6.4\n",
            "multipledispatch==1.0.0\n",
            "multiprocess==0.70.16\n",
            "multitasking==0.0.12\n",
            "murmurhash==1.0.13\n",
            "music21==9.3.0\n",
            "namex==0.1.0\n",
            "narwhals==2.5.0\n",
            "natsort==8.4.0\n",
            "nbclassic==1.3.3\n",
            "nbclient==0.10.2\n",
            "nbconvert==7.16.6\n",
            "nbformat==5.10.4\n",
            "ndindex==1.10.0\n",
            "nest-asyncio==1.6.0\n",
            "networkx==3.5\n",
            "nibabel==5.3.2\n",
            "nltk==3.8.1\n",
            "notebook==6.5.7\n",
            "notebook_shim==0.2.4\n",
            "numba==0.60.0\n",
            "numba-cuda==0.11.0\n",
            "numexpr==2.12.1\n",
            "numpy==1.26.4\n",
            "nvidia-cublas-cu12==12.1.3.1\n",
            "nvidia-cuda-cupti-cu12==12.1.105\n",
            "nvidia-cuda-nvcc-cu12==12.5.82\n",
            "nvidia-cuda-nvrtc-cu12==12.1.105\n",
            "nvidia-cuda-runtime-cu12==12.1.105\n",
            "nvidia-cudnn-cu12==8.9.2.26\n",
            "nvidia-cufft-cu12==11.0.2.54\n",
            "nvidia-cufile-cu12==1.11.1.6\n",
            "nvidia-curand-cu12==10.3.2.106\n",
            "nvidia-cusolver-cu12==11.4.5.107\n",
            "nvidia-cusparse-cu12==12.1.0.106\n",
            "nvidia-cusparselt-cu12==0.7.1\n",
            "nvidia-ml-py==12.575.51\n",
            "nvidia-nccl-cu12==2.19.3\n",
            "nvidia-nvjitlink-cu12==12.6.85\n",
            "nvidia-nvtx-cu12==12.1.105\n",
            "nvtx==0.2.13\n",
            "nx-cugraph-cu12 @ https://pypi.nvidia.com/nx-cugraph-cu12/nx_cugraph_cu12-25.6.0-py3-none-any.whl\n",
            "oauth2client==4.1.3\n",
            "oauthlib==3.3.1\n",
            "omegaconf==2.3.0\n",
            "openai==1.108.0\n",
            "opencv-contrib-python==4.12.0.88\n",
            "opencv-python==4.12.0.88\n",
            "opencv-python-headless==4.12.0.88\n",
            "openpyxl==3.1.5\n",
            "opentelemetry-api==1.37.0\n",
            "opentelemetry-exporter-gcp-trace==1.9.0\n",
            "opentelemetry-resourcedetector-gcp==1.9.0a0\n",
            "opentelemetry-sdk==1.37.0\n",
            "opentelemetry-semantic-conventions==0.58b0\n",
            "opt_einsum==3.4.0\n",
            "optax==0.2.6\n",
            "optree==0.17.0\n",
            "orbax-checkpoint==0.11.24\n",
            "orjson==3.11.3\n",
            "osqp==1.0.4\n",
            "overrides==7.7.0\n",
            "packaging==25.0\n",
            "pandas==2.2.2\n",
            "pandas-datareader==0.10.0\n",
            "pandas-gbq==0.29.2\n",
            "pandas-stubs==2.2.2.240909\n",
            "pandocfilters==1.5.1\n",
            "panel==1.8.1\n",
            "param==2.2.1\n",
            "parso==0.8.5\n",
            "parsy==2.2\n",
            "partd==1.4.2\n",
            "patsy==1.0.1\n",
            "peewee==3.18.2\n",
            "peft==0.17.1\n",
            "pexpect==4.9.0\n",
            "pickleshare==0.7.5\n",
            "pillow==11.3.0\n",
            "platformdirs==4.4.0\n",
            "plotly==5.24.1\n",
            "plotnine==0.14.5\n",
            "pluggy==1.6.0\n",
            "plum-dispatch==2.5.7\n",
            "ply==3.11\n",
            "polars==1.25.2\n",
            "pooch==1.8.2\n",
            "portpicker==1.5.2\n",
            "preshed==3.0.10\n",
            "prettytable==3.16.0\n",
            "proglog==0.1.12\n",
            "progressbar2==4.5.0\n",
            "prometheus_client==0.22.1\n",
            "promise==2.3\n",
            "prompt_toolkit==3.0.52\n",
            "propcache==0.3.2\n",
            "prophet==1.1.7\n",
            "proto-plus==1.26.1\n",
            "protobuf==5.29.5\n",
            "psutil==5.9.5\n",
            "psycopg2==2.9.10\n",
            "psygnal==0.14.1\n",
            "ptyprocess==0.7.0\n",
            "py-cpuinfo==9.0.0\n",
            "py4j==0.10.9.7\n",
            "pyarrow==18.1.0\n",
            "pyasn1==0.6.1\n",
            "pyasn1_modules==0.4.2\n",
            "pycairo==1.28.0\n",
            "pycocotools==2.0.10\n",
            "pycodestyle==2.14.0\n",
            "pycparser==2.23\n",
            "pycryptodomex==3.23.0\n",
            "pydantic==2.11.9\n",
            "pydantic-settings==2.10.1\n",
            "pydantic_core==2.33.2\n",
            "pydata-google-auth==1.9.1\n",
            "pydocstyle==6.3.0\n",
            "pydot==3.0.4\n",
            "pydotplus==2.0.2\n",
            "PyDrive2==1.21.3\n",
            "pydub==0.25.1\n",
            "pyerfa==2.0.1.5\n",
            "pyflakes==3.4.0\n",
            "pygame==2.6.1\n",
            "pygit2==1.18.2\n",
            "Pygments==2.19.2\n",
            "PyGObject==3.42.0\n",
            "PyJWT==2.10.1\n",
            "pylibcudf-cu12 @ https://pypi.nvidia.com/pylibcudf-cu12/pylibcudf_cu12-25.6.0-cp312-cp312-manylinux_2_24_x86_64.manylinux_2_28_x86_64.whl\n",
            "pylibcugraph-cu12==25.6.0\n",
            "pylibraft-cu12==25.6.0\n",
            "pymc==5.25.1\n",
            "pynndescent==0.5.13\n",
            "pynvjitlink-cu12==0.7.0\n",
            "pynvml==12.0.0\n",
            "pyogrio==0.11.1\n",
            "pyomo==6.9.4\n",
            "PyOpenGL==3.1.10\n",
            "pyOpenSSL==24.2.1\n",
            "pyparsing==2.4.7\n",
            "pyperclip==1.10.0\n",
            "pyproj==3.7.2\n",
            "pyproject_hooks==1.2.0\n",
            "pyshp==2.3.1\n",
            "PySocks==1.7.1\n",
            "pyspark==3.5.1\n",
            "pytensor==2.31.7\n",
            "pytest==8.4.2\n",
            "python-apt==0.0.0\n",
            "python-box==7.3.2\n",
            "python-dateutil==2.9.0.post0\n",
            "python-dotenv==1.1.1\n",
            "python-json-logger==3.3.0\n",
            "python-louvain==0.16\n",
            "python-multipart==0.0.20\n",
            "python-slugify==8.0.4\n",
            "python-snappy==0.7.3\n",
            "python-utils==3.9.1\n",
            "pytz==2025.2\n",
            "pyviz_comms==3.0.6\n",
            "PyWavelets==1.9.0\n",
            "PyYAML==6.0.2\n",
            "pyzmq==26.2.1\n",
            "raft-dask-cu12==25.6.0\n",
            "rapids-dask-dependency==25.6.0\n",
            "rapids-logger==0.1.1\n",
            "ratelim==0.1.6\n",
            "referencing==0.36.2\n",
            "regex==2024.11.6\n",
            "requests==2.32.4\n",
            "requests-oauthlib==2.0.0\n",
            "requests-toolbelt==1.0.0\n",
            "requirements-parser==0.9.0\n",
            "rfc3339-validator==0.1.4\n",
            "rfc3986-validator==0.1.1\n",
            "rfc3987-syntax==1.1.0\n",
            "rich==13.9.4\n",
            "rmm-cu12==25.6.0\n",
            "roman-numerals-py==3.1.0\n",
            "rouge==1.0.1\n",
            "rpds-py==0.27.1\n",
            "rpy2==3.5.17\n",
            "rsa==4.9.1\n",
            "ruff==0.13.0\n",
            "safehttpx==0.1.6\n",
            "safetensors==0.6.2\n",
            "scikit-image==0.25.2\n",
            "scikit-learn==1.6.1\n",
            "scipy==1.16.2\n",
            "scooby==0.10.1\n",
            "scs==3.2.8\n",
            "seaborn==0.13.2\n",
            "SecretStorage==3.4.0\n",
            "semantic-version==2.10.0\n",
            "Send2Trash==1.8.3\n",
            "sentence-transformers==5.1.0\n",
            "sentencepiece==0.2.1\n",
            "sentry-sdk==2.38.0\n",
            "setuptools==75.2.0\n",
            "shap==0.48.0\n",
            "shapely==2.1.1\n",
            "shellingham==1.5.4\n",
            "simple-parsing==0.1.7\n",
            "simplejson==3.20.1\n",
            "simsimd==6.5.3\n",
            "six==1.17.0\n",
            "sklearn-pandas==2.2.0\n",
            "slicer==0.0.8\n",
            "smart_open==7.3.1\n",
            "smmap==5.0.2\n",
            "sniffio==1.3.1\n",
            "snowballstemmer==3.0.1\n",
            "sortedcontainers==2.4.0\n",
            "soundfile==0.13.1\n",
            "soupsieve==2.8\n",
            "soxr==1.0.0\n",
            "spacy==3.8.7\n",
            "spacy-legacy==3.0.12\n",
            "spacy-loggers==1.0.5\n",
            "spanner-graph-notebook==1.1.8\n",
            "spglib==2.6.0\n",
            "Sphinx==8.2.3\n",
            "sphinxcontrib-applehelp==2.0.0\n",
            "sphinxcontrib-devhelp==2.0.0\n",
            "sphinxcontrib-htmlhelp==2.1.0\n",
            "sphinxcontrib-jsmath==1.0.1\n",
            "sphinxcontrib-qthelp==2.0.0\n",
            "sphinxcontrib-serializinghtml==2.0.0\n",
            "SQLAlchemy==2.0.43\n",
            "sqlalchemy-spanner==1.16.0\n",
            "sqlglot==25.20.2\n",
            "sqlparse==0.5.3\n",
            "srsly==2.5.1\n",
            "sse-starlette==3.0.2\n",
            "stanio==0.5.1\n",
            "starlette==0.48.0\n",
            "statsmodels==0.14.5\n",
            "stringzilla==4.0.11\n",
            "stumpy==1.13.0\n",
            "sympy==1.13.3\n",
            "tables==3.10.2\n",
            "tabulate==0.9.0\n",
            "tbb==2022.2.0\n",
            "tblib==3.1.0\n",
            "tcmlib==1.4.0\n",
            "tenacity==8.5.0\n",
            "tensorboard==2.19.0\n",
            "tensorboard-data-server==0.7.2\n",
            "tensorflow==2.19.0\n",
            "tensorflow-datasets==4.9.9\n",
            "tensorflow-hub==0.16.1\n",
            "tensorflow-metadata==1.17.2\n",
            "tensorflow-probability==0.25.0\n",
            "tensorflow-text==2.19.0\n",
            "tensorflow_decision_forests==1.12.0\n",
            "tensorstore==0.1.76\n",
            "termcolor==3.1.0\n",
            "terminado==0.18.1\n",
            "text-unidecode==1.3\n",
            "textblob==0.19.0\n",
            "tf-slim==1.1.0\n",
            "tf_keras==2.19.0\n",
            "thinc==8.3.6\n",
            "threadpoolctl==3.6.0\n",
            "tifffile==2025.9.9\n",
            "tiktoken==0.11.0\n",
            "timm==1.0.19\n",
            "tinycss2==1.4.0\n",
            "tokenizers==0.22.0\n",
            "toml==0.10.2\n",
            "tomlkit==0.13.3\n",
            "toolz==0.12.1\n",
            "torch==2.2.1\n",
            "torchao==0.10.0\n",
            "torchaudio==2.8.0+cu126\n",
            "torchdata==0.11.0\n",
            "torchsummary==1.5.1\n",
            "torchtune==0.6.1\n",
            "torchvision==0.23.0+cu126\n",
            "tornado==6.4.2\n",
            "tqdm==4.67.1\n",
            "traitlets==5.7.1\n",
            "traittypes==0.2.1\n",
            "transformers==4.56.1\n",
            "treelite==4.4.1\n",
            "treescope==0.1.10\n",
            "triton==3.0.0\n",
            "tsfresh==0.21.1\n",
            "tweepy==4.16.0\n",
            "typeguard==4.4.4\n",
            "typer==0.17.4\n",
            "types-python-dateutil==2.9.0.20250822\n",
            "types-pytz==2025.2.0.20250809\n",
            "types-setuptools==80.9.0.20250822\n",
            "typing-inspection==0.4.1\n",
            "typing_extensions==4.15.0\n",
            "tzdata==2025.2\n",
            "tzlocal==5.3.1\n",
            "uc-micro-py==1.0.3\n",
            "ucx-py-cu12==0.44.0\n",
            "ucxx-cu12==0.44.0\n",
            "umap-learn==0.5.9.post2\n",
            "umf==0.11.0\n",
            "uri-template==1.3.0\n",
            "uritemplate==4.2.0\n",
            "urllib3==2.5.0\n",
            "uvicorn==0.35.0\n",
            "vega-datasets==0.9.0\n",
            "wadllib==1.3.6\n",
            "wandb==0.21.4\n",
            "wasabi==1.1.3\n",
            "watchdog==6.0.0\n",
            "wcwidth==0.2.13\n",
            "weasel==0.4.1\n",
            "webcolors==24.11.1\n",
            "webencodings==0.5.1\n",
            "websocket-client==1.8.0\n",
            "websockets==15.0.1\n",
            "Werkzeug==3.1.3\n",
            "wheel==0.45.1\n",
            "widgetsnbextension==3.6.10\n",
            "wordcloud==1.9.4\n",
            "wrapt==1.17.3\n",
            "wurlitzer==3.1.1\n",
            "xarray==2025.9.0\n",
            "xarray-einstats==0.9.1\n",
            "xgboost==3.0.5\n",
            "xlrd==2.0.2\n",
            "xmltodict==1.0.2\n",
            "xxhash==3.5.0\n",
            "xyzservices==2025.4.0\n",
            "yarl==1.20.1\n",
            "ydf==0.13.0\n",
            "yellowbrick==1.5\n",
            "yfinance==0.2.66\n",
            "zict==3.0.0\n",
            "zipp==3.23.0\n",
            "zstandard==0.25.0\n"
          ]
        }
      ]
    },
    {
      "cell_type": "code",
      "source": [],
      "metadata": {
        "id": "tWyQbo1hpjXT"
      },
      "execution_count": null,
      "outputs": []
    }
  ]
}